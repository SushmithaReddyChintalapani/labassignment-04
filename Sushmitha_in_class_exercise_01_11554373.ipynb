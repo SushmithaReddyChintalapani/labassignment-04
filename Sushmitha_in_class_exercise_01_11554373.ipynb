{
  "cells": [
    {
      "cell_type": "markdown",
      "metadata": {
        "id": "view-in-github",
        "colab_type": "text"
      },
      "source": [
        "<a href=\"https://colab.research.google.com/github/SushmithaReddyChintalapani/labassignment-04/blob/main/Sushmitha_in_class_exercise_01_11554373.ipynb\" target=\"_parent\"><img src=\"https://colab.research.google.com/assets/colab-badge.svg\" alt=\"Open In Colab\"/></a>"
      ]
    },
    {
      "cell_type": "markdown",
      "metadata": {
        "id": "DymRJbxDBCnf"
      },
      "source": [
        "# **The first In-class-exercise (09/07/2022, 40 points in total)**"
      ]
    },
    {
      "cell_type": "markdown",
      "metadata": {
        "id": "03jb4GZsBkBS"
      },
      "source": [
        "(1) Write a Python program to calculate the length of a string. (4 points)"
      ]
    },
    {
      "cell_type": "code",
      "execution_count": null,
      "metadata": {
        "colab": {
          "base_uri": "https://localhost:8080/"
        },
        "id": "YaGLbSHHB8Ej",
        "outputId": "feab61c2-a9e6-4944-c854-9781a1a618fa"
      },
      "outputs": [
        {
          "output_type": "stream",
          "name": "stdout",
          "text": [
            "13\n"
          ]
        }
      ],
      "source": [
        "String ='Data Modeling'\n",
        "print(len(String))\n"
      ]
    },
    {
      "cell_type": "markdown",
      "metadata": {
        "id": "jJDe71iLB616"
      },
      "source": [
        "(2) Write a Python program to count the number of characters in a string. (4 points)\n",
        "\n",
        "Sample String : 'google.com‘, \n",
        "\n",
        "Expected Result : {'o': 3, 'g': 2, '.': 1, 'e': 1, 'l': 1, 'm': 1, 'c': 1}"
      ]
    },
    {
      "cell_type": "code",
      "execution_count": null,
      "metadata": {
        "colab": {
          "base_uri": "https://localhost:8080/"
        },
        "id": "MtKskTzbCLaU",
        "outputId": "2fb22143-d3a6-417e-c5db-c3ec49fbe9b2"
      },
      "outputs": [
        {
          "output_type": "stream",
          "name": "stdout",
          "text": [
            "Enter a String: Google.com\n",
            "Counter({'o': 3, 'G': 1, 'g': 1, 'l': 1, 'e': 1, '.': 1, 'c': 1, 'm': 1})\n"
          ]
        }
      ],
      "source": [
        "\n",
        "import collections\n",
        "def char_count():\n",
        "  #string to be entered\n",
        "    r = input('Enter a String: ') \n",
        "    #counts the string characters\n",
        "    return collections.Counter(list(r))\n",
        "    #prints the characters\n",
        "print(char_count())\n"
      ]
    },
    {
      "cell_type": "markdown",
      "metadata": {
        "id": "55W9AMdXCSpV"
      },
      "source": [
        "(3) Write a Python program to sum all the items in a list. (4 points)"
      ]
    },
    {
      "cell_type": "code",
      "execution_count": null,
      "metadata": {
        "colab": {
          "base_uri": "https://localhost:8080/"
        },
        "id": "I57NXsauCec2",
        "outputId": "1f8248bd-3ad3-4a14-e785-f86f7b58c00b"
      },
      "outputs": [
        {
          "output_type": "stream",
          "name": "stdout",
          "text": [
            "284\n"
          ]
        }
      ],
      "source": [
        "def sum_list_of_numbers(items):\n",
        "    sum_of_numbers = 0\n",
        "    for x in items:\n",
        "        sum_of_numbers += x\n",
        "    return sum_of_numbers\n",
        "print(sum_list_of_numbers([34, 67,56,98,29]))\n"
      ]
    },
    {
      "cell_type": "markdown",
      "metadata": {
        "id": "4ulBZ6yhCi9F"
      },
      "source": [
        "(4) Write a Python program to get a string from a given string where all occurrences of its first char have been changed to '\\$', except the first char itself. (4 points)\n",
        "\n",
        "Sample String : 'restart‘, \n",
        "\n",
        "Expected Result : 'resta\\$t'"
      ]
    },
    {
      "cell_type": "code",
      "source": [
        "def change_char(string1):  \n",
        "  char = string1[0]  \n",
        "  leng = len(string1) \n",
        "  #replace the S char with $ \n",
        "  string1 = string1.replace(char, '$')  \n",
        "  string1 = char + string1[1:]  \n",
        "  \n",
        "  return string1  \n",
        "  #print the replaced character output\n",
        "print(change_char('restart'))"
      ],
      "metadata": {
        "colab": {
          "base_uri": "https://localhost:8080/"
        },
        "id": "k1KE1C1Ndnj_",
        "outputId": "51f48957-0fbc-4668-a860-27d71e68d983"
      },
      "execution_count": null,
      "outputs": [
        {
          "output_type": "stream",
          "name": "stdout",
          "text": [
            "resta$t\n"
          ]
        }
      ]
    },
    {
      "cell_type": "markdown",
      "metadata": {
        "id": "_bIP7s1MCzue"
      },
      "source": [
        "(5) Write a program with python which could accept two parameter a and b to calculate and output the result of S, where \n",
        "\n",
        "$\\ S=3.14*(1+a/b)^3$ (4 points)\n",
        "\n"
      ]
    },
    {
      "cell_type": "code",
      "source": [
        "import math;\n",
        "def calculated(a,b):\n",
        "  s=0\n",
        "  s=3.14*(1+a/b)**3\n",
        "  return s\n",
        "\n",
        "print(calculated(37,9))"
      ],
      "metadata": {
        "colab": {
          "base_uri": "https://localhost:8080/"
        },
        "id": "GuYPgE59dq8s",
        "outputId": "5416b7ce-905e-44f7-f27b-fa7aea3e0ad2"
      },
      "execution_count": null,
      "outputs": [
        {
          "output_type": "stream",
          "name": "stdout",
          "text": [
            "419.25245541838126\n"
          ]
        }
      ]
    },
    {
      "cell_type": "markdown",
      "metadata": {
        "id": "xCa2bK9aD4Q3"
      },
      "source": [
        "(6) Write a Python program to concatenate following dictionaries to create a new one. (4 points)\n",
        "\n",
        "Sample Dictionary : dic1={1:10, 2:20}, dic2={3:30, 4:40}, dic3={5:50,6:60}, \n",
        "\n",
        "Expected Result : {1: 10, 2: 20, 3: 30, 4: 40, 5: 50, 6: 60}\n"
      ]
    },
    {
      "cell_type": "code",
      "source": [
        "dictionary1={1:10, 2:20}  \n",
        "dictionary2={3:30, 4:40}  \n",
        "dictionary3={5:50,6:60}  \n",
        "dictionary4 = {}  \n",
        "for d in (dictionary1, dictionary2, dictionary3): dictionary4.update(d)  \n",
        "print(dictionary4)  "
      ],
      "metadata": {
        "colab": {
          "base_uri": "https://localhost:8080/"
        },
        "id": "Pjx8nZ-qdzjL",
        "outputId": "d7ed692a-7c9e-48f1-fc99-0fbcecd35936"
      },
      "execution_count": null,
      "outputs": [
        {
          "output_type": "stream",
          "name": "stdout",
          "text": [
            "{1: 10, 2: 20, 3: 30, 4: 40, 5: 50, 6: 60}\n"
          ]
        }
      ]
    },
    {
      "cell_type": "markdown",
      "metadata": {
        "id": "0v48Vqa7FrQh"
      },
      "source": [
        "(7) Write a Python program to check whether an element exists within a tuple. (4 points)"
      ]
    },
    {
      "cell_type": "code",
      "execution_count": null,
      "metadata": {
        "colab": {
          "base_uri": "https://localhost:8080/"
        },
        "id": "7WEmgq-DF2P1",
        "outputId": "ef269d57-3de9-4897-f419-bb4f838be737"
      },
      "outputs": [
        {
          "output_type": "stream",
          "name": "stdout",
          "text": [
            "True\n",
            "False\n"
          ]
        }
      ],
      "source": [
        "#a tuple is taken\n",
        "tuple_new = (\"B\", \"I\", \"G\", \"D\", \"A\", \"T\", \"A\" )\n",
        "#print True if the elements are present in the tuple\n",
        "print(\"B\" in tuple_new )\n",
        "#print false if the elements are not present in the tuple\n",
        "print(10 in tuple_new)\n"
      ]
    },
    {
      "cell_type": "markdown",
      "metadata": {
        "id": "vD5PYLMuGga_"
      },
      "source": [
        "(8) Write a Python program to find maximum and the minimum value in a set. (4 points)"
      ]
    },
    {
      "cell_type": "code",
      "execution_count": null,
      "metadata": {
        "colab": {
          "base_uri": "https://localhost:8080/"
        },
        "id": "t0D5kdJUGjjw",
        "outputId": "7c91ad2e-19cf-44f7-c96c-72c6314e1c6d"
      },
      "outputs": [
        {
          "output_type": "stream",
          "name": "stdout",
          "text": [
            "Elements the set:\n",
            "Max value of the set :\n",
            "\n",
            "202\n",
            "Min value of the set :\n",
            "\n",
            "7\n"
          ]
        }
      ],
      "source": [
        "set_elements = {45, 10, 66, 50, 7, 202}\n",
        "print(\"Elements the set:\")\n",
        "print(\"Max value of the set :\\n\")\n",
        "print(max(set_elements))\n",
        "print(\"Min value of the set :\\n\")\n",
        "print(min(set_elements))"
      ]
    },
    {
      "cell_type": "markdown",
      "metadata": {
        "id": "uHkd-y5VhVWC"
      },
      "source": [
        "(9) Write a Python program to randomly divide the students in this class into six groups for term projects, each group should have at least 4 students but no more than 6 students (including 6). Here is the students list: (4 points)\n",
        "\n",
        "studnet_list = ['ja0964','sa1198','sb1357','vb0218','sc1229','kg0569','kg0470','sg1297','bg0320','fh0141','jl1252','sk1386',\n",
        "           'ak0956','sk1390','sk1458','sk1313','ak0934','vm0377','nm0618','sm1640','sm1907','gn0108','pr0353','dr0609','ms1500','aos0040','ds0814', 'av0659','nv0234','hy0232']"
      ]
    },
    {
      "cell_type": "code",
      "source": [
        "import random\n",
        "\n",
        "stu_lis = ['ja0964','sa1198','sb1357','vb0218','sc1229','kg0569','kg0470','sg1297','bg0320','fh0141','jl1252','sk1386', 'ak0956','sk1390','sk1458','sk1313',\n",
        "                'ak0934','vm0377','nm0618','sm1640',\n",
        "                'sm1907','gn0108','pr0353','dr0609','ms1500','aos0040','ds0814', 'av0659','nv0234','hy0232']\n",
        "def partition(stu_lis, n): \n",
        "    divide = len(stu_lis) / float(n) \n",
        "    return [ stu_lis[int(round(divide * i)): int(round(divide * (i + 1)))] for i in range(n) ]\n",
        "partition(stu_lis,12)"
      ],
      "metadata": {
        "colab": {
          "base_uri": "https://localhost:8080/"
        },
        "id": "vt-aKscgJzGh",
        "outputId": "4bbd946a-9646-4df8-adaa-82a3ac9642b8"
      },
      "execution_count": null,
      "outputs": [
        {
          "output_type": "execute_result",
          "data": {
            "text/plain": [
              "[['ja0964', 'sa1198'],\n",
              " ['sb1357', 'vb0218', 'sc1229'],\n",
              " ['kg0569', 'kg0470', 'sg1297'],\n",
              " ['bg0320', 'fh0141'],\n",
              " ['jl1252', 'sk1386'],\n",
              " ['ak0956', 'sk1390', 'sk1458'],\n",
              " ['sk1313', 'ak0934', 'vm0377'],\n",
              " ['nm0618', 'sm1640'],\n",
              " ['sm1907', 'gn0108'],\n",
              " ['pr0353', 'dr0609', 'ms1500'],\n",
              " ['aos0040', 'ds0814', 'av0659'],\n",
              " ['nv0234', 'hy0232']]"
            ]
          },
          "metadata": {},
          "execution_count": 10
        }
      ]
    },
    {
      "cell_type": "markdown",
      "metadata": {
        "id": "bXp0qt1VGsbK"
      },
      "source": [
        "(10) Write a Python program to find the duplicate elements in a given array of integers. Return -1 If there are no such elements. (4 points)"
      ]
    },
    {
      "cell_type": "code",
      "source": [
        "from numpy.core.defchararray import endswith\n",
        "import numpy as np\n",
        "array_1 = np.array([22, 37, 48, 15, 23, 44, 45, 63, 45, 44, 17, 84, 23, 6, 24])\n",
        "\n",
        "flag = 0\n",
        "\n",
        "for num in set(array_1):\n",
        "  \n",
        "  if np.count_nonzero(array_1 == num) > 1:\n",
        "    flag = 1\n",
        "    print(num, end = ', ')\n",
        "if flag == 0:\n",
        "  print(\"-1\")"
      ],
      "metadata": {
        "colab": {
          "base_uri": "https://localhost:8080/"
        },
        "id": "8-6C8mnTNwXw",
        "outputId": "36b3cec3-7b38-4407-e0a0-13c76708223e"
      },
      "execution_count": null,
      "outputs": [
        {
          "output_type": "stream",
          "name": "stdout",
          "text": [
            "44, 45, 23, "
          ]
        }
      ]
    },
    {
      "cell_type": "markdown",
      "metadata": {
        "id": "JlMmS4ReGsbK"
      },
      "source": [
        "(11) Write a Python program to select all the Sundays of a specified year. (4 extra points)"
      ]
    },
    {
      "cell_type": "code",
      "execution_count": null,
      "metadata": {
        "colab": {
          "base_uri": "https://localhost:8080/"
        },
        "id": "rZOG3wFfGsbL",
        "outputId": "2773dae2-6c70-4d8b-f76e-e33b99007322"
      },
      "outputs": [
        {
          "output_type": "stream",
          "name": "stdout",
          "text": [
            "2018-01-07\n",
            "2018-01-14\n",
            "2018-01-21\n",
            "2018-01-28\n",
            "2018-02-04\n",
            "2018-02-11\n",
            "2018-02-18\n",
            "2018-02-25\n",
            "2018-03-04\n",
            "2018-03-11\n",
            "2018-03-18\n",
            "2018-03-25\n",
            "2018-04-01\n",
            "2018-04-08\n",
            "2018-04-15\n",
            "2018-04-22\n",
            "2018-04-29\n",
            "2018-05-06\n",
            "2018-05-13\n",
            "2018-05-20\n",
            "2018-05-27\n",
            "2018-06-03\n",
            "2018-06-10\n",
            "2018-06-17\n",
            "2018-06-24\n",
            "2018-07-01\n",
            "2018-07-08\n",
            "2018-07-15\n",
            "2018-07-22\n",
            "2018-07-29\n",
            "2018-08-05\n",
            "2018-08-12\n",
            "2018-08-19\n",
            "2018-08-26\n",
            "2018-09-02\n",
            "2018-09-09\n",
            "2018-09-16\n",
            "2018-09-23\n",
            "2018-09-30\n",
            "2018-10-07\n",
            "2018-10-14\n",
            "2018-10-21\n",
            "2018-10-28\n",
            "2018-11-04\n",
            "2018-11-11\n",
            "2018-11-18\n",
            "2018-11-25\n",
            "2018-12-02\n",
            "2018-12-09\n",
            "2018-12-16\n",
            "2018-12-23\n",
            "2018-12-30\n"
          ]
        }
      ],
      "source": [
        "from datetime import date, timedelta\n",
        "def sundays(year):\n",
        "       date_1 = date(year, 1, 1)\n",
        "       date_1 += timedelta(days = 6 - date_1.weekday())  \n",
        "       while date_1.year == year:\n",
        "          yield date_1\n",
        "          date_1 += timedelta(days = 7)\n",
        "          \n",
        "for sun in sundays(2018):\n",
        "   print(sun)"
      ]
    }
  ],
  "metadata": {
    "colab": {
      "collapsed_sections": [],
      "provenance": [],
      "include_colab_link": true
    },
    "kernelspec": {
      "display_name": "Python 3 (ipykernel)",
      "language": "python",
      "name": "python3"
    },
    "language_info": {
      "codemirror_mode": {
        "name": "ipython",
        "version": 3
      },
      "file_extension": ".py",
      "mimetype": "text/x-python",
      "name": "python",
      "nbconvert_exporter": "python",
      "pygments_lexer": "ipython3",
      "version": "3.9.12"
    }
  },
  "nbformat": 4,
  "nbformat_minor": 0
}