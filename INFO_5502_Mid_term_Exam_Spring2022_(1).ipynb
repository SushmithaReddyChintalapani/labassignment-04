{
  "cells": [
    {
      "cell_type": "markdown",
      "metadata": {
        "id": "view-in-github",
        "colab_type": "text"
      },
      "source": [
        "<a href=\"https://colab.research.google.com/github/SushmithaReddyChintalapani/labassignment-04/blob/main/INFO_5502_Mid_term_Exam_Spring2022_(1).ipynb\" target=\"_parent\"><img src=\"https://colab.research.google.com/assets/colab-badge.svg\" alt=\"Open In Colab\"/></a>"
      ]
    },
    {
      "cell_type": "markdown",
      "metadata": {
        "id": "n57ZNhPBqQ3m"
      },
      "source": [
        "### INFO 5502 Mid-term Exam (03/10/2022, 80 points in total)"
      ]
    },
    {
      "cell_type": "markdown",
      "metadata": {
        "id": "dMLmsMW7qQ3p"
      },
      "source": [
        "<span style='background:yellow'>**Question 1 (5 pt).**</span> Make an array called `weird_numbers` containing the following numbers (in the given order):\n",
        "\n",
        "1. -3\n",
        "2. the sine of 2.1\n",
        "3. 5\n",
        "4. 4 to the power of the cosine of 4.2\n",
        "\n",
        "*Hint:* `sin` and `cos` are functions in the `math` module."
      ]
    },
    {
      "cell_type": "code",
      "execution_count": 29,
      "metadata": {
        "colab": {
          "base_uri": "https://localhost:8080/"
        },
        "id": "wBUw8vOnqQ3s",
        "outputId": "fd29222c-2d72-4c26-9471-d68ab0f83982"
      },
      "outputs": [
        {
          "output_type": "stream",
          "name": "stdout",
          "text": [
            "[-3, 0.8632093666488737, 5, 0.5067964617539602]\n"
          ]
        }
      ],
      "source": [
        "#### You code here\n",
        "#imported math as K\n",
        "\n",
        "import math as k\n",
        "\n",
        "# now we are creating the arrays of a weird_numbers contains\n",
        "\n",
        "weird_numbers=[]\n",
        "weird_numbers.append(-3)\n",
        "weird_numbers.append(k.sin(2.1))\n",
        "weird_numbers.append(5)\n",
        "weird_numbers.append(pow(4,k.cos(4.2)))\n",
        "\n",
        "print(weird_numbers) \n",
        "# printing the array of numbers \n",
        "\n",
        "\n",
        "\n"
      ]
    },
    {
      "cell_type": "markdown",
      "metadata": {
        "id": "jyCRnikgqQ3t"
      },
      "source": [
        "<span style='background:yellow'>**Question 2 (5 pt).**</span> Write a simple function that takes in a number (weight in pounds) and returns a number which is the coreesponding conversion to kg.\n",
        "\n",
        "Test it by calling the function on 15 and 27. E.g., `convert_pounds_to_kg(15)`, `convert_pounds_to_kg(27)`. Print both to screen.\n",
        "\n",
        "Hint: 1 pound = 0.453592 kg"
      ]
    },
    {
      "cell_type": "code",
      "source": [
        "#### You code here\n",
        "def convert_pounds_to_kg(number):\n",
        "     kgs = number / 2.2\n",
        "     return number,kgs\n",
        "print(convert_pounds_to_kg(15))\n",
        "print(convert_pounds_to_kg(27))\n"
      ],
      "metadata": {
        "colab": {
          "base_uri": "https://localhost:8080/"
        },
        "id": "Z8WVxMfqr33a",
        "outputId": "a9afd247-50c0-44fd-f336-04ffc96c71a0"
      },
      "execution_count": 68,
      "outputs": [
        {
          "output_type": "stream",
          "name": "stdout",
          "text": [
            "(15, 6.8181818181818175)\n",
            "(27, 12.272727272727272)\n"
          ]
        }
      ]
    },
    {
      "cell_type": "markdown",
      "metadata": {
        "id": "argi0USaqQ3u"
      },
      "source": [
        "<span style='background:yellow'>**Question 3 (5 pt).**</span> We've loaded an array of temperatures in the next cell.  Each number is the highest temperature observed on a day at a climate observation station, mostly from the US.  Since they're from the US government agency [NOAA](noaa.gov), all the temperatures are in Fahrenheit.  Convert them all to Celsius by first subtracting 32 from them, then multiplying the results by $\\frac{5}{9}$. Make sure to **ROUND** the final result after converting to Celsius to the nearest integer using the `np.round` function. Download the data from here: https://github.com/unt-iialab/info5502-spring2022/blob/main/datasets/temperatures.csv"
      ]
    },
    {
      "cell_type": "code",
      "source": [
        "from google.colab import drive\n",
        "drive.mount('/content/drive')\n"
      ],
      "metadata": {
        "colab": {
          "base_uri": "https://localhost:8080/"
        },
        "id": "Uoj_bR0UD2z5",
        "outputId": "de12ab12-5ae0-4142-e490-151062c5f21b"
      },
      "execution_count": 103,
      "outputs": [
        {
          "output_type": "stream",
          "name": "stdout",
          "text": [
            "Drive already mounted at /content/drive; to attempt to forcibly remount, call drive.mount(\"/content/drive\", force_remount=True).\n"
          ]
        }
      ]
    },
    {
      "cell_type": "code",
      "source": [
        "from datascience import *\n",
        "import tables\n",
        "max_temp = Table.read_table('/content/drive/MyDrive/temperatures.csv').column(\"Daily Max Temperature\")\n",
        "\n",
        "celsius_max_temp = np.round(max_temperatures - 32) * (5/9)\n",
        "celsius_max_temp"
      ],
      "metadata": {
        "colab": {
          "base_uri": "https://localhost:8080/"
        },
        "id": "TFIILS8kEhFN",
        "outputId": "e1c45188-d176-488e-9f6a-64dade8c9f6f"
      },
      "execution_count": 109,
      "outputs": [
        {
          "output_type": "execute_result",
          "data": {
            "text/plain": [
              "array([-3.88888889, 30.55555556, 31.66666667, ..., 16.66666667,\n",
              "       22.77777778, 16.11111111])"
            ]
          },
          "metadata": {},
          "execution_count": 109
        }
      ]
    },
    {
      "cell_type": "markdown",
      "metadata": {
        "id": "r1QyhcOLqQ3v"
      },
      "source": [
        "<span style='background:yellow'>**Question 4 (5 pt).**</span> Suppose you have 4 apples, 3 oranges, and 3 pineapples.  (Perhaps you're using Python to solve a high school Algebra problem.)  Create a table that contains this information.  It should have two columns: `fruit name` and `count`.  Assign the new table to the variable `fruits`.\n",
        "\n",
        "**Note:** Use lower-case and singular words for the name of each fruit, like `\"apple\"`."
      ]
    },
    {
      "cell_type": "code",
      "execution_count": 19,
      "metadata": {
        "colab": {
          "base_uri": "https://localhost:8080/"
        },
        "id": "JvyjNb6UqQ3v",
        "outputId": "5533f47f-6905-4f9e-dea4-4ed1646be60d"
      },
      "outputs": [
        {
          "output_type": "stream",
          "name": "stdout",
          "text": [
            "╒═══════════════╤═════════╕\n",
            "│ FRUIT NAMES   │   COUNT │\n",
            "╞═══════════════╪═════════╡\n",
            "│ apple         │       4 │\n",
            "├───────────────┼─────────┤\n",
            "│ orange        │       3 │\n",
            "├───────────────┼─────────┤\n",
            "│ pineapple     │       3 │\n",
            "╘═══════════════╧═════════╛\n"
          ]
        }
      ],
      "source": [
        "#### You code here\n",
        "#\n",
        "import numpy as np\n",
        "from tabulate import tabulate\n",
        "arr = np.array([['apple', 4],['orange', 3], ['pineapple', 3]])\n",
        "col_names = [\"FRUIT NAMES\", \"COUNT\"]\n",
        "fruits = tabulate(arr, col_names, tablefmt=\"fancy_grid\") \n",
        "print(fruits)\n",
        "\n",
        "\n"
      ]
    },
    {
      "cell_type": "markdown",
      "metadata": {
        "id": "DO4q8_Y6qQ3w"
      },
      "source": [
        "<span style='background:yellow'>**Question 5 (10 pt).**</span> Below we load a table containing 200,000 weekday Uber rides in the Boston, Massachusetts metropolitan area from the [Uber Movement](https://movement.uber.com) project. The `sourceid` and `dstid` columns contain codes corresponding to start and end locations of each ride. The `hod` column contains codes corresponding to the hour of the day the ride took place. The `ride time` column contains the length of the ride, in minutes. Produce a histogram of all ride times in Boston using the given bins. Download the data from here: https://github.com/unt-iialab/info5502-spring2022/blob/main/datasets/boston.csv"
      ]
    },
    {
      "cell_type": "code",
      "source": [
        "from google.colab import drive\n",
        "drive.mount('/content/drive')\n"
      ],
      "metadata": {
        "colab": {
          "base_uri": "https://localhost:8080/"
        },
        "id": "tdJ9Uiw1yNh2",
        "outputId": "89ce546e-c192-418a-f528-4c99b0481861"
      },
      "execution_count": 64,
      "outputs": [
        {
          "output_type": "stream",
          "name": "stdout",
          "text": [
            "Drive already mounted at /content/drive; to attempt to forcibly remount, call drive.mount(\"/content/drive\", force_remount=True).\n"
          ]
        }
      ]
    },
    {
      "cell_type": "code",
      "source": [
        "# Read boston.csv file\n",
        "boston = Table.read_table(\"/content/drive/MyDrive/boston.csv\")\n"
      ],
      "metadata": {
        "id": "wN7bKyAczdH9"
      },
      "execution_count": 70,
      "outputs": []
    },
    {
      "cell_type": "code",
      "source": [
        "# [1]:\n",
        "# Import required libraries\n",
        "from datascience import *\n",
        "import numpy as np\n",
        "import matplotlib.pyplot as plots\n",
        "plots.style.use('fivethirtyeight')\n",
        "get_ipython().run_line_magic('matplotlib', 'inline')"
      ],
      "metadata": {
        "id": "Zpl83wi2z-lm"
      },
      "execution_count": 61,
      "outputs": []
    },
    {
      "cell_type": "code",
      "source": [
        "# [2]:\n",
        "# Read boston.csv file\n",
        "boston = Table.read_table(\"/content/drive/MyDrive/boston.csv\")\n",
        "# Read manila.csv file\n",
        "manila = Table.read_table(\"/content/drive/MyDrive/boston.csv\")"
      ],
      "metadata": {
        "id": "ut1k1ilZ0Ds9"
      },
      "execution_count": 55,
      "outputs": []
    },
    {
      "cell_type": "code",
      "source": [
        "# [3]:\n",
        "# The first ten rows of the loaded boston.csv file will be shown.\n",
        "print(\"Boston Table\")\n",
        "boston.show(10)"
      ],
      "metadata": {
        "colab": {
          "base_uri": "https://localhost:8080/",
          "height": 409
        },
        "id": "a60H-q4Q0Hd_",
        "outputId": "9a8f37c1-885b-4b3d-f4e0-3bbfff9af1ba"
      },
      "execution_count": 71,
      "outputs": [
        {
          "output_type": "stream",
          "name": "stdout",
          "text": [
            "Boston Table\n"
          ]
        },
        {
          "output_type": "display_data",
          "data": {
            "text/html": [
              "<table border=\"1\" class=\"dataframe\">\n",
              "    <thead>\n",
              "        <tr>\n",
              "            <th>sourceid</th> <th>dstid</th> <th>hod</th> <th>ride time</th>\n",
              "        </tr>\n",
              "    </thead>\n",
              "    <tbody>\n",
              "        <tr>\n",
              "            <td>584     </td> <td>33   </td> <td>7   </td> <td>11.866   </td>\n",
              "        </tr>\n",
              "        <tr>\n",
              "            <td>1013    </td> <td>1116 </td> <td>13  </td> <td>17.7993  </td>\n",
              "        </tr>\n",
              "        <tr>\n",
              "            <td>884     </td> <td>1190 </td> <td>22  </td> <td>19.3488  </td>\n",
              "        </tr>\n",
              "        <tr>\n",
              "            <td>211     </td> <td>364  </td> <td>1   </td> <td>1.7235   </td>\n",
              "        </tr>\n",
              "        <tr>\n",
              "            <td>218     </td> <td>1189 </td> <td>7   </td> <td>42.5588  </td>\n",
              "        </tr>\n",
              "        <tr>\n",
              "            <td>1048    </td> <td>461  </td> <td>7   </td> <td>26.4212  </td>\n",
              "        </tr>\n",
              "        <tr>\n",
              "            <td>879     </td> <td>461  </td> <td>11  </td> <td>23.7743  </td>\n",
              "        </tr>\n",
              "        <tr>\n",
              "            <td>1047    </td> <td>1002 </td> <td>17  </td> <td>36.3583  </td>\n",
              "        </tr>\n",
              "        <tr>\n",
              "            <td>930     </td> <td>856  </td> <td>6   </td> <td>16.6407  </td>\n",
              "        </tr>\n",
              "        <tr>\n",
              "            <td>1110    </td> <td>875  </td> <td>22  </td> <td>17.3533  </td>\n",
              "        </tr>\n",
              "    </tbody>\n",
              "</table>\n",
              "<p>... (199990 rows omitted)</p>"
            ],
            "text/plain": [
              "<IPython.core.display.HTML object>"
            ]
          },
          "metadata": {}
        }
      ]
    },
    {
      "cell_type": "code",
      "source": [
        "# [5]:\n",
        "# For plotting the histogram, make equal-width bins.\n",
        "bins = np.arange(0, 100, 4)\n",
        "#Using the above bins, plot a histogram of all ride times in Boston.\n",
        "boston.hist(\"ride time\", bins=bins, unit=\"Minutes\")\n"
      ],
      "metadata": {
        "colab": {
          "base_uri": "https://localhost:8080/",
          "height": 281
        },
        "id": "urJbwnUb0LaF",
        "outputId": "e24dcb68-72ca-4cd4-96f4-8ab0dfb648f7"
      },
      "execution_count": 77,
      "outputs": [
        {
          "output_type": "display_data",
          "data": {
            "image/png": "[encoded data removed]",
            "text/plain": [
              "<Figure size 432x288 with 1 Axes>"
            ]
          },
          "metadata": {
            "needs_background": "light"
          }
        }
      ]
    },
    {
      "cell_type": "markdown",
      "metadata": {
        "id": "UIPY-qIpqQ3x"
      },
      "source": [
        "<span style='background:yellow'>**Question 6 (20 pt).**</span> Below is a dataset we collected from this website: https://ddr.densho.org/narrators/?page=1. Narrators are the interview subjects of oral histories contained in the Densho Digital Repository. The interviewees, or narrators, share their life histories to preserve history, educate the public, and promote tolerance. We urge our users to approach these materials in the same spirit. You are required to conduct the exploratory data analysis on the location, year of born, generation, and gender. Please select the best visualiztions to present your results. Download the data from here: https://github.com/unt-iialab/info5502-spring2022/blob/main/datasets/Combined-data.xlsx"
      ]
    },
    {
      "cell_type": "code",
      "source": [
        "#### You code here\n",
        "from google.colab import drive\n",
        "drive.mount('/content/drive')\n"
      ],
      "metadata": {
        "colab": {
          "base_uri": "https://localhost:8080/"
        },
        "id": "N-7vZhYjGbZ-",
        "outputId": "efc81f1b-5115-4cb9-b935-3fc943f649ce"
      },
      "execution_count": 121,
      "outputs": [
        {
          "output_type": "stream",
          "name": "stdout",
          "text": [
            "Drive already mounted at /content/drive; to attempt to forcibly remount, call drive.mount(\"/content/drive\", force_remount=True).\n"
          ]
        }
      ]
    },
    {
      "cell_type": "code",
      "source": [
        "import pandas as pd\n",
        "import matplotlib.pyplot as plt\n",
        "import seaborn as sns\n",
        "data_frame1 = pd.read_excel(r\"/content/drive/MyDrive/Combined-data (1).xlsx\")\n",
        "\n",
        "# Eliminating rows containing null values in the Year column\n",
        "data_frame1 = data_frame1[pd.notnull(data_frame1['Year'])]\n",
        "# profiling the Year column's data type to integer\n",
        "data_frame1['Year'] = data_frame1['Year'].astype('int64').astype('str')\n",
        "plt.rcParams['figure.figsize'] = [30, 15]\n",
        "ax = sns.countplot(x='Year', data=data_frame1)\n",
        "plt.xlabel(\" Narrator birth year\")\n",
        "plt.ylabel(\"years count\")\n",
        "plt.xticks(rotation=90)\n",
        "plt.show()"
      ],
      "metadata": {
        "colab": {
          "base_uri": "https://localhost:8080/",
          "height": 407
        },
        "id": "7OwjPjWTGhKK",
        "outputId": "86877b9d-3123-4383-99d5-d045371cd8ec"
      },
      "execution_count": 132,
      "outputs": [
        {
          "output_type": "display_data",
          "data": {
            "image/png": "[encoded data removed]",
            "text/plain": [
              "<Figure size 2160x1080 with 1 Axes>"
            ]
          },
          "metadata": {
            "needs_background": "light"
          }
        }
      ]
    },
    {
      "cell_type": "code",
      "source": [
        "# dropping the rows that have null values in  Generation column\n",
        "data_frame1 = data_frame1[pd.notnull(data_frame1['Generation'])]\n",
        "plt.rcParams['figure.figsize'] = [10, 15]\n",
        "ax = sns.countplot(x='Generation', data=data_frame1)\n",
        "plt.xlabel(\"Narrator generation\")\n",
        "plt.ylabel(\"Generations count\")\n",
        "plt.xticks(rotation=90)\n",
        "plt.show()"
      ],
      "metadata": {
        "colab": {
          "base_uri": "https://localhost:8080/",
          "height": 914
        },
        "id": "0HNnHbRMG8K6",
        "outputId": "b484c1c7-e587-421b-a8c8-a11e8ab2fd69"
      },
      "execution_count": 137,
      "outputs": [
        {
          "output_type": "display_data",
          "data": {
            "image/png": "[encoded data removed]",
            "text/plain": [
              "<Figure size 720x1080 with 1 Axes>"
            ]
          },
          "metadata": {
            "needs_background": "light"
          }
        }
      ]
    },
    {
      "cell_type": "code",
      "source": [
        "# dropping the rows that have null values in  Location column\n",
        "data_frame1 = data_frame1[pd.notnull(data_frame1['Gender'])]\n",
        "plt.rcParams['figure.figsize'] = [8, 5]\n",
        "ax = sns.countplot(x='Gender', data=data1)\n",
        "plt.xlabel(\" Narrators gender\")\n",
        "plt.ylabel(\" Genders count\")\n",
        "plt.xticks(rotation=90)\n",
        "plt.show()\n"
      ],
      "metadata": {
        "colab": {
          "base_uri": "https://localhost:8080/",
          "height": 358
        },
        "id": "R4EB-UT6G_fM",
        "outputId": "eed6eb40-5c2c-49c1-f5b3-212767cc910d"
      },
      "execution_count": 139,
      "outputs": [
        {
          "output_type": "display_data",
          "data": {
            "image/png": "[encoded data removed]",
            "text/plain": [
              "<Figure size 576x360 with 1 Axes>"
            ]
          },
          "metadata": {
            "needs_background": "light"
          }
        }
      ]
    },
    {
      "cell_type": "code",
      "source": [
        "# removing records with null values in the Location column\n",
        "data_frame1 = data_frame1[pd.notnull(data_frame1['Location'])]\n",
        "plt.rcParams['figure.figsize'] = [40, 25]\n",
        "ax = sns.countplot(x='Location', data=data_frame1)\n",
        "plt.xlabel(\"Location of Birth of Narrator\")\n",
        "plt.ylabel(\"Count of Locations\")\n",
        "plt.xticks(rotation=90)\n",
        "plt.show()"
      ],
      "metadata": {
        "colab": {
          "base_uri": "https://localhost:8080/",
          "height": 503
        },
        "id": "d4YN0EbgG-oJ",
        "outputId": "84a4f46e-c541-4dd0-ac6c-78f74b4cbda4"
      },
      "execution_count": 141,
      "outputs": [
        {
          "output_type": "display_data",
          "data": {
            "image/png": "[encoded data removed]",
            "text/plain": [
              "<Figure size 2880x1800 with 1 Axes>"
            ]
          },
          "metadata": {
            "needs_background": "light"
          }
        }
      ]
    },
    {
      "cell_type": "markdown",
      "metadata": {
        "id": "RDijaw9WqQ3y"
      },
      "source": [
        "<span style='background:yellow'>**Question 7.**</span> **Monkeys Typing Shakespeare** A monkey is banging repeatedly on the keys of a typewriter. Each time, the monkey is equally likely to hit any of the 26 lowercase letters of the English alphabet, 26 uppercase letters of the English alphabet, and any number between 0-9 (inclusive), regardless of what it has hit before. There are no other keys on the keyboard.  \n",
        "\n",
        "This question is inspired by a mathematical theorem called the Infinite monkey theorem (<https://en.wikipedia.org/wiki/Infinite_monkey_theorem>), which postulates that if you put a monkey in the situation described above for an infinite time, they will eventually type out all of Shakespeare’s works."
      ]
    },
    {
      "cell_type": "markdown",
      "metadata": {
        "id": "0iIK2vs0qQ3y"
      },
      "source": [
        "<span style='background:yellow'>**Question 7-1 (10 pt).**</span> Suppose the monkey hits the keyboard 5 times.  Compute the chance that the monkey types the sequence `Data8`.  (Call this `data_chance`.) Use algebra and type in an arithmetic equation that Python can evalute."
      ]
    },
    {
      "cell_type": "code",
      "execution_count": 87,
      "metadata": {
        "colab": {
          "base_uri": "https://localhost:8080/"
        },
        "id": "ZYC85hBVqQ3y",
        "outputId": "60c3cd00-3794-4510-d4e5-c64ad89fbc8b"
      },
      "outputs": [
        {
          "output_type": "execute_result",
          "data": {
            "text/plain": [
              "0.08064516129032258"
            ]
          },
          "metadata": {},
          "execution_count": 87
        }
      ],
      "source": [
        "#### You code here\n",
        "#### You code here\n",
        "data_chance = ( 1 / 62) * 5\n",
        "data_chance\n",
        "\n",
        "\n"
      ]
    },
    {
      "cell_type": "markdown",
      "metadata": {
        "id": "whHxW7nUqQ3z"
      },
      "source": [
        "<span style='background:yellow'>**Question 7-2 (10 pt).**</span> Write a function called `simulate_key_strike`.  It should take **no arguments**, and it should return a random one-character string that is equally likely to be any of the 26 lower-case English letters, 26 upper-case English letters, or any number between 0-9 (inclusive). "
      ]
    },
    {
      "cell_type": "code",
      "execution_count": 99,
      "metadata": {
        "colab": {
          "base_uri": "https://localhost:8080/",
          "height": 35
        },
        "id": "w7jCFdU3qQ3z",
        "outputId": "d56d4efb-c372-4d0d-d44c-e6c1ace86ecb"
      },
      "outputs": [
        {
          "output_type": "execute_result",
          "data": {
            "application/vnd.google.colaboratory.intrinsic+json": {
              "type": "string"
            },
            "text/plain": [
              "'Z'"
            ]
          },
          "metadata": {},
          "execution_count": 99
        }
      ],
      "source": [
        "import string\n",
        "\n",
        "str = list(string.ascii_lowercase+string.ascii_uppercase+string.digits)\n",
        "\n",
        "def stimulate_key_strike():\n",
        "  return np.random.choice(str)\n",
        "stimulate_key_strike()"
      ]
    },
    {
      "cell_type": "markdown",
      "metadata": {
        "id": "Y9aWsKhqqQ3z"
      },
      "source": [
        "<span style='background:yellow'>**Question 7-3 (10 pt).**</span> Write a function called `simulate_several_key_strikes`.  It should take one argument: an integer specifying the number of key strikes to simulate. It should return a string containing that many characters, each one obtained from simulating a key strike by the monkey.\n",
        "\n",
        "*Hint:* If you make a list or array of the simulated key strikes called `key_strikes_array`, you can convert that to a string by calling `\"\".join(key_strikes_array)`"
      ]
    },
    {
      "cell_type": "code",
      "execution_count": 110,
      "metadata": {
        "colab": {
          "base_uri": "https://localhost:8080/",
          "height": 35
        },
        "id": "gRVh_yZtqQ3z",
        "outputId": "7efb63fd-bcef-4848-8434-712abe051f73"
      },
      "outputs": [
        {
          "output_type": "execute_result",
          "data": {
            "application/vnd.google.colaboratory.intrinsic+json": {
              "type": "string"
            },
            "text/plain": [
              "'W k M m R 7 U g A i A 9 r k Z h 5 l'"
            ]
          },
          "metadata": {},
          "execution_count": 110
        }
      ],
      "source": [
        "#### You code here\n",
        "def stimulate_several_key_strikes(num):\n",
        "  return(\" \".join(np.random.choice(str) for i in range(num)))\n",
        "\n",
        "\n",
        "\n",
        "stimulate_several_key_strikes(18)\n",
        "\n",
        "\n"
      ]
    }
  ],
  "metadata": {
    "kernelspec": {
      "display_name": "Python 3",
      "language": "python",
      "name": "python3"
    },
    "language_info": {
      "codemirror_mode": {
        "name": "ipython",
        "version": 3
      },
      "file_extension": ".py",
      "mimetype": "text/x-python",
      "name": "python",
      "nbconvert_exporter": "python",
      "pygments_lexer": "ipython3",
      "version": "3.8.5"
    },
    "colab": {
      "name": "INFO 5502-Mid-term Exam-Spring2022 (1).ipynb",
      "provenance": [],
      "collapsed_sections": [],
      "include_colab_link": true
    }
  },
  "nbformat": 4,
  "nbformat_minor": 0
}