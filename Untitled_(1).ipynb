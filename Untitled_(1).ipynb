{
  "cells": [
    {
      "cell_type": "markdown",
      "metadata": {
        "id": "view-in-github",
        "colab_type": "text"
      },
      "source": [
        "<a href=\"https://colab.research.google.com/github/SushmithaReddyChintalapani/labassignment-04/blob/main/Untitled_(1).ipynb\" target=\"_parent\"><img src=\"https://colab.research.google.com/assets/colab-badge.svg\" alt=\"Open In Colab\"/></a>"
      ]
    },
    {
      "cell_type": "markdown",
      "source": [
        "Analysis for the given document "
      ],
      "metadata": {
        "id": "iWdUfCjYH0dy"
      },
      "id": "iWdUfCjYH0dy"
    },
    {
      "cell_type": "code",
      "source": [
        "from google.colab import drive\n",
        "drive.mount('/content/drive')"
      ],
      "metadata": {
        "colab": {
          "base_uri": "https://localhost:8080/"
        },
        "id": "WBMZeEBzBjUh",
        "outputId": "af8aef90-d119-4802-c1e5-c58350dc0b57"
      },
      "id": "WBMZeEBzBjUh",
      "execution_count": null,
      "outputs": [
        {
          "output_type": "stream",
          "name": "stdout",
          "text": [
            "Drive already mounted at /content/drive; to attempt to forcibly remount, call drive.mount(\"/content/drive\", force_remount=True).\n"
          ]
        }
      ]
    },
    {
      "cell_type": "code",
      "source": [
        "import numpy as np\n",
        "import pandas as pd\n",
        "import matplotlib.pyplot as plt\n",
        "import seaborn as sns"
      ],
      "metadata": {
        "id": "j8-ctrDrBm_b"
      },
      "id": "j8-ctrDrBm_b",
      "execution_count": null,
      "outputs": []
    },
    {
      "cell_type": "code",
      "execution_count": null,
      "id": "f5016a8d",
      "metadata": {
        "colab": {
          "base_uri": "https://localhost:8080/",
          "height": 372
        },
        "id": "f5016a8d",
        "outputId": "98f06d61-67d9-4425-d633-3bdf35216995"
      },
      "outputs": [
        {
          "output_type": "execute_result",
          "data": {
            "text/plain": [
              "   Passenger Class  Survived                                             Name  \\\n",
              "0                1         1                    Allen, Miss. Elisabeth Walton   \n",
              "1                1         1                   Allison, Master. Hudson Trevor   \n",
              "2                1         0                     Allison, Miss. Helen Loraine   \n",
              "3                1         0             Allison, Mr. Hudson Joshua Creighton   \n",
              "4                1         0  Allison, Mrs. Hudson J C (Bessie Waldo Daniels)   \n",
              "\n",
              "      Sex      Age  Siblings and Spouses  Parents and Children Ticket #  \\\n",
              "0  female  29.0000                     0                     0    24160   \n",
              "1    male   0.9167                     1                     2   113781   \n",
              "2  female   2.0000                     1                     2   113781   \n",
              "3    male  30.0000                     1                     2   113781   \n",
              "4  female  25.0000                     1                     2   113781   \n",
              "\n",
              "       Fare    Cabin Port Lifeboat   Body               Home / Destination  \\\n",
              "0  211.3375       B5    S        2    NaN                     St Louis, MO   \n",
              "1  151.5500  C22 C26    S       11    NaN  Montreal, PQ / Chesterville, ON   \n",
              "2  151.5500  C22 C26    S      NaN    NaN  Montreal, PQ / Chesterville, ON   \n",
              "3  151.5500  C22 C26    S      NaN  135.0  Montreal, PQ / Chesterville, ON   \n",
              "4  151.5500  C22 C26    S      NaN    NaN  Montreal, PQ / Chesterville, ON   \n",
              "\n",
              "   Midpoint age  \n",
              "0          27.5  \n",
              "1           2.5  \n",
              "2           2.5  \n",
              "3          32.5  \n",
              "4          27.5  "
            ],
            "text/html": [
              "\n",
              "  <div id=\"df-9579d15f-4314-45bc-9ebd-5b5ab22030c6\">\n",
              "    <div class=\"colab-df-container\">\n",
              "      <div>\n",
              "<style scoped>\n",
              "    .dataframe tbody tr th:only-of-type {\n",
              "        vertical-align: middle;\n",
              "    }\n",
              "\n",
              "    .dataframe tbody tr th {\n",
              "        vertical-align: top;\n",
              "    }\n",
              "\n",
              "    .dataframe thead th {\n",
              "        text-align: right;\n",
              "    }\n",
              "</style>\n",
              "<table border=\"1\" class=\"dataframe\">\n",
              "  <thead>\n",
              "    <tr style=\"text-align: right;\">\n",
              "      <th></th>\n",
              "      <th>Passenger Class</th>\n",
              "      <th>Survived</th>\n",
              "      <th>Name</th>\n",
              "      <th>Sex</th>\n",
              "      <th>Age</th>\n",
              "      <th>Siblings and Spouses</th>\n",
              "      <th>Parents and Children</th>\n",
              "      <th>Ticket #</th>\n",
              "      <th>Fare</th>\n",
              "      <th>Cabin</th>\n",
              "      <th>Port</th>\n",
              "      <th>Lifeboat</th>\n",
              "      <th>Body</th>\n",
              "      <th>Home / Destination</th>\n",
              "      <th>Midpoint age</th>\n",
              "    </tr>\n",
              "  </thead>\n",
              "  <tbody>\n",
              "    <tr>\n",
              "      <th>0</th>\n",
              "      <td>1</td>\n",
              "      <td>1</td>\n",
              "      <td>Allen, Miss. Elisabeth Walton</td>\n",
              "      <td>female</td>\n",
              "      <td>29.0000</td>\n",
              "      <td>0</td>\n",
              "      <td>0</td>\n",
              "      <td>24160</td>\n",
              "      <td>211.3375</td>\n",
              "      <td>B5</td>\n",
              "      <td>S</td>\n",
              "      <td>2</td>\n",
              "      <td>NaN</td>\n",
              "      <td>St Louis, MO</td>\n",
              "      <td>27.5</td>\n",
              "    </tr>\n",
              "    <tr>\n",
              "      <th>1</th>\n",
              "      <td>1</td>\n",
              "      <td>1</td>\n",
              "      <td>Allison, Master. Hudson Trevor</td>\n",
              "      <td>male</td>\n",
              "      <td>0.9167</td>\n",
              "      <td>1</td>\n",
              "      <td>2</td>\n",
              "      <td>113781</td>\n",
              "      <td>151.5500</td>\n",
              "      <td>C22 C26</td>\n",
              "      <td>S</td>\n",
              "      <td>11</td>\n",
              "      <td>NaN</td>\n",
              "      <td>Montreal, PQ / Chesterville, ON</td>\n",
              "      <td>2.5</td>\n",
              "    </tr>\n",
              "    <tr>\n",
              "      <th>2</th>\n",
              "      <td>1</td>\n",
              "      <td>0</td>\n",
              "      <td>Allison, Miss. Helen Loraine</td>\n",
              "      <td>female</td>\n",
              "      <td>2.0000</td>\n",
              "      <td>1</td>\n",
              "      <td>2</td>\n",
              "      <td>113781</td>\n",
              "      <td>151.5500</td>\n",
              "      <td>C22 C26</td>\n",
              "      <td>S</td>\n",
              "      <td>NaN</td>\n",
              "      <td>NaN</td>\n",
              "      <td>Montreal, PQ / Chesterville, ON</td>\n",
              "      <td>2.5</td>\n",
              "    </tr>\n",
              "    <tr>\n",
              "      <th>3</th>\n",
              "      <td>1</td>\n",
              "      <td>0</td>\n",
              "      <td>Allison, Mr. Hudson Joshua Creighton</td>\n",
              "      <td>male</td>\n",
              "      <td>30.0000</td>\n",
              "      <td>1</td>\n",
              "      <td>2</td>\n",
              "      <td>113781</td>\n",
              "      <td>151.5500</td>\n",
              "      <td>C22 C26</td>\n",
              "      <td>S</td>\n",
              "      <td>NaN</td>\n",
              "      <td>135.0</td>\n",
              "      <td>Montreal, PQ / Chesterville, ON</td>\n",
              "      <td>32.5</td>\n",
              "    </tr>\n",
              "    <tr>\n",
              "      <th>4</th>\n",
              "      <td>1</td>\n",
              "      <td>0</td>\n",
              "      <td>Allison, Mrs. Hudson J C (Bessie Waldo Daniels)</td>\n",
              "      <td>female</td>\n",
              "      <td>25.0000</td>\n",
              "      <td>1</td>\n",
              "      <td>2</td>\n",
              "      <td>113781</td>\n",
              "      <td>151.5500</td>\n",
              "      <td>C22 C26</td>\n",
              "      <td>S</td>\n",
              "      <td>NaN</td>\n",
              "      <td>NaN</td>\n",
              "      <td>Montreal, PQ / Chesterville, ON</td>\n",
              "      <td>27.5</td>\n",
              "    </tr>\n",
              "  </tbody>\n",
              "</table>\n",
              "</div>\n",
              "      <button class=\"colab-df-convert\" onclick=\"convertToInteractive('df-9579d15f-4314-45bc-9ebd-5b5ab22030c6')\"\n",
              "              title=\"Convert this dataframe to an interactive table.\"\n",
              "              style=\"display:none;\">\n",
              "        \n",
              "  <svg xmlns=\"http://www.w3.org/2000/svg\" height=\"24px\"viewBox=\"0 0 24 24\"\n",
              "       width=\"24px\">\n",
              "    <path d=\"M0 0h24v24H0V0z\" fill=\"none\"/>\n",
              "    <path d=\"M18.56 5.44l.94 2.06.94-2.06 2.06-.94-2.06-.94-.94-2.06-.94 2.06-2.06.94zm-11 1L8.5 8.5l.94-2.06 2.06-.94-2.06-.94L8.5 2.5l-.94 2.06-2.06.94zm10 10l.94 2.06.94-2.06 2.06-.94-2.06-.94-.94-2.06-.94 2.06-2.06.94z\"/><path d=\"M17.41 7.96l-1.37-1.37c-.4-.4-.92-.59-1.43-.59-.52 0-1.04.2-1.43.59L10.3 9.45l-7.72 7.72c-.78.78-.78 2.05 0 2.83L4 21.41c.39.39.9.59 1.41.59.51 0 1.02-.2 1.41-.59l7.78-7.78 2.81-2.81c.8-.78.8-2.07 0-2.86zM5.41 20L4 18.59l7.72-7.72 1.47 1.35L5.41 20z\"/>\n",
              "  </svg>\n",
              "      </button>\n",
              "      \n",
              "  <style>\n",
              "    .colab-df-container {\n",
              "      display:flex;\n",
              "      flex-wrap:wrap;\n",
              "      gap: 12px;\n",
              "    }\n",
              "\n",
              "    .colab-df-convert {\n",
              "      background-color: #E8F0FE;\n",
              "      border: none;\n",
              "      border-radius: 50%;\n",
              "      cursor: pointer;\n",
              "      display: none;\n",
              "      fill: #1967D2;\n",
              "      height: 32px;\n",
              "      padding: 0 0 0 0;\n",
              "      width: 32px;\n",
              "    }\n",
              "\n",
              "    .colab-df-convert:hover {\n",
              "      background-color: #E2EBFA;\n",
              "      box-shadow: 0px 1px 2px rgba(60, 64, 67, 0.3), 0px 1px 3px 1px rgba(60, 64, 67, 0.15);\n",
              "      fill: #174EA6;\n",
              "    }\n",
              "\n",
              "    [theme=dark] .colab-df-convert {\n",
              "      background-color: #3B4455;\n",
              "      fill: #D2E3FC;\n",
              "    }\n",
              "\n",
              "    [theme=dark] .colab-df-convert:hover {\n",
              "      background-color: #434B5C;\n",
              "      box-shadow: 0px 1px 3px 1px rgba(0, 0, 0, 0.15);\n",
              "      filter: drop-shadow(0px 1px 2px rgba(0, 0, 0, 0.3));\n",
              "      fill: #FFFFFF;\n",
              "    }\n",
              "  </style>\n",
              "\n",
              "      <script>\n",
              "        const buttonEl =\n",
              "          document.querySelector('#df-9579d15f-4314-45bc-9ebd-5b5ab22030c6 button.colab-df-convert');\n",
              "        buttonEl.style.display =\n",
              "          google.colab.kernel.accessAllowed ? 'block' : 'none';\n",
              "\n",
              "        async function convertToInteractive(key) {\n",
              "          const element = document.querySelector('#df-9579d15f-4314-45bc-9ebd-5b5ab22030c6');\n",
              "          const dataTable =\n",
              "            await google.colab.kernel.invokeFunction('convertToInteractive',\n",
              "                                                     [key], {});\n",
              "          if (!dataTable) return;\n",
              "\n",
              "          const docLinkHtml = 'Like what you see? Visit the ' +\n",
              "            '<a target=\"_blank\" href=https://colab.research.google.com/notebooks/data_table.ipynb>data table notebook</a>'\n",
              "            + ' to learn more about interactive tables.';\n",
              "          element.innerHTML = '';\n",
              "          dataTable['output_type'] = 'display_data';\n",
              "          await google.colab.output.renderOutput(dataTable, element);\n",
              "          const docLink = document.createElement('div');\n",
              "          docLink.innerHTML = docLinkHtml;\n",
              "          element.appendChild(docLink);\n",
              "        }\n",
              "      </script>\n",
              "    </div>\n",
              "  </div>\n",
              "  "
            ]
          },
          "metadata": {},
          "execution_count": 125
        }
      ],
      "source": [
        "import pandas as pd\n",
        "\n",
        "data = pd.read_excel(\"/content/drive/MyDrive/TitanicPassengers.xlsx\")\n",
        "data.head()"
      ]
    },
    {
      "cell_type": "markdown",
      "id": "f10eaca4",
      "metadata": {
        "id": "f10eaca4"
      },
      "source": [
        "# 1.How many data records are in the dataset? How many data records have missing values in the “Age” variable? What other variables have missing values? Are there any duplicate values in this dataset?"
      ]
    },
    {
      "cell_type": "code",
      "source": [
        "#the number of datasets recorded in the Titanic Passenger\n",
        "data.shape\n"
      ],
      "metadata": {
        "colab": {
          "base_uri": "https://localhost:8080/"
        },
        "id": "2RhcpEC4Clp6",
        "outputId": "95cde256-dfcd-4b37-c26b-393f6cb05bc0"
      },
      "id": "2RhcpEC4Clp6",
      "execution_count": null,
      "outputs": [
        {
          "output_type": "execute_result",
          "data": {
            "text/plain": [
              "(1309, 15)"
            ]
          },
          "metadata": {},
          "execution_count": 126
        }
      ]
    },
    {
      "cell_type": "code",
      "source": [
        "#Missing values of Age variables \n",
        "data['Age'].isna().sum()"
      ],
      "metadata": {
        "id": "5-iepkXTHqEF",
        "outputId": "8a322d2f-9daa-4044-951f-3ba046af3e1c",
        "colab": {
          "base_uri": "https://localhost:8080/"
        }
      },
      "id": "5-iepkXTHqEF",
      "execution_count": null,
      "outputs": [
        {
          "output_type": "execute_result",
          "data": {
            "text/plain": [
              "263"
            ]
          },
          "metadata": {},
          "execution_count": 127
        }
      ]
    },
    {
      "cell_type": "code",
      "execution_count": null,
      "id": "bee4adc7",
      "metadata": {
        "colab": {
          "base_uri": "https://localhost:8080/"
        },
        "id": "bee4adc7",
        "outputId": "05a6e0fb-fb7d-438e-8538-11e08a8dab0e"
      },
      "outputs": [
        {
          "output_type": "execute_result",
          "data": {
            "text/plain": [
              "Index(['Age', 'Fare', 'Cabin', 'Port', 'Lifeboat', 'Body',\n",
              "       'Home / Destination', 'Midpoint age'],\n",
              "      dtype='object')"
            ]
          },
          "metadata": {},
          "execution_count": 128
        }
      ],
      "source": [
        "# Variables with missing values\n",
        "data.columns[data.isna().any()]"
      ]
    },
    {
      "cell_type": "code",
      "execution_count": null,
      "id": "ebb4c62f",
      "metadata": {
        "colab": {
          "base_uri": "https://localhost:8080/"
        },
        "id": "ebb4c62f",
        "outputId": "55d1b5a7-3c2d-44cd-b5b0-736146738057"
      },
      "outputs": [
        {
          "output_type": "execute_result",
          "data": {
            "text/plain": [
              "0"
            ]
          },
          "metadata": {},
          "execution_count": 184
        }
      ],
      "source": [
        "# Finding a duplicate value in the given excel \n",
        "data.duplicated().sum()"
      ]
    },
    {
      "cell_type": "markdown",
      "id": "dadcd10b",
      "metadata": {
        "id": "dadcd10b"
      },
      "source": [
        "2.What is the proportion of survived passengers? What is the age range of the passengers? What is the age range of the majority of the Titanic passengers? Include a screenshot of the “Survived” distribution and the “Age” distribution."
      ]
    },
    {
      "cell_type": "code",
      "execution_count": null,
      "id": "bf96550d",
      "metadata": {
        "colab": {
          "base_uri": "https://localhost:8080/"
        },
        "id": "bf96550d",
        "outputId": "a5f70f65-a335-4eaa-8709-0b15ef02a760"
      },
      "outputs": [
        {
          "output_type": "stream",
          "name": "stdout",
          "text": [
            "survived passengers is the proportion of the  0.40822\n"
          ]
        }
      ],
      "source": [
        "# Count for the servived passenger \n",
        "print(\"survived passengers is the proportion of the \", round(data[data['Survived'] == 1].shape[0]/data.shape[0], 5)) "
      ]
    },
    {
      "cell_type": "code",
      "execution_count": null,
      "id": "73db9e55",
      "metadata": {
        "id": "73db9e55",
        "outputId": "2307dd32-4b7a-4258-a4f7-e5f3fe4a45e6",
        "colab": {
          "base_uri": "https://localhost:8080/"
        }
      },
      "outputs": [
        {
          "output_type": "stream",
          "name": "stdout",
          "text": [
            "passengers  age range is 0.1667 to 80.0\n"
          ]
        }
      ],
      "source": [
        "# passengers Age range\n",
        "print(\"passengers  age range is {0} to {1}\".format(data['Age'].min(), data['Age'].max()))\n",
        "#data['Age'].max()"
      ]
    },
    {
      "cell_type": "code",
      "execution_count": null,
      "id": "c74a48e4",
      "metadata": {
        "id": "c74a48e4",
        "outputId": "612a7807-48b5-4646-bf91-13324b4b4fbe",
        "colab": {
          "base_uri": "https://localhost:8080/",
          "height": 677
        }
      },
      "outputs": [
        {
          "output_type": "execute_result",
          "data": {
            "text/plain": [
              "      Age\n",
              "24.0   47\n",
              "22.0   43\n",
              "21.0   41\n",
              "30.0   40\n",
              "18.0   39\n",
              "25.0   34\n",
              "28.0   32\n",
              "36.0   31\n",
              "26.0   30\n",
              "29.0   30\n",
              "27.0   30\n",
              "19.0   29\n",
              "23.0   26\n",
              "32.0   24\n",
              "31.0   23\n",
              "20.0   23\n",
              "35.0   23\n",
              "33.0   21\n",
              "45.0   21\n",
              "17.0   20"
            ],
            "text/html": [
              "\n",
              "  <div id=\"df-37c5e43f-a912-491b-9bdd-5faa65a2420c\">\n",
              "    <div class=\"colab-df-container\">\n",
              "      <div>\n",
              "<style scoped>\n",
              "    .dataframe tbody tr th:only-of-type {\n",
              "        vertical-align: middle;\n",
              "    }\n",
              "\n",
              "    .dataframe tbody tr th {\n",
              "        vertical-align: top;\n",
              "    }\n",
              "\n",
              "    .dataframe thead th {\n",
              "        text-align: right;\n",
              "    }\n",
              "</style>\n",
              "<table border=\"1\" class=\"dataframe\">\n",
              "  <thead>\n",
              "    <tr style=\"text-align: right;\">\n",
              "      <th></th>\n",
              "      <th>Age</th>\n",
              "    </tr>\n",
              "  </thead>\n",
              "  <tbody>\n",
              "    <tr>\n",
              "      <th>24.0</th>\n",
              "      <td>47</td>\n",
              "    </tr>\n",
              "    <tr>\n",
              "      <th>22.0</th>\n",
              "      <td>43</td>\n",
              "    </tr>\n",
              "    <tr>\n",
              "      <th>21.0</th>\n",
              "      <td>41</td>\n",
              "    </tr>\n",
              "    <tr>\n",
              "      <th>30.0</th>\n",
              "      <td>40</td>\n",
              "    </tr>\n",
              "    <tr>\n",
              "      <th>18.0</th>\n",
              "      <td>39</td>\n",
              "    </tr>\n",
              "    <tr>\n",
              "      <th>25.0</th>\n",
              "      <td>34</td>\n",
              "    </tr>\n",
              "    <tr>\n",
              "      <th>28.0</th>\n",
              "      <td>32</td>\n",
              "    </tr>\n",
              "    <tr>\n",
              "      <th>36.0</th>\n",
              "      <td>31</td>\n",
              "    </tr>\n",
              "    <tr>\n",
              "      <th>26.0</th>\n",
              "      <td>30</td>\n",
              "    </tr>\n",
              "    <tr>\n",
              "      <th>29.0</th>\n",
              "      <td>30</td>\n",
              "    </tr>\n",
              "    <tr>\n",
              "      <th>27.0</th>\n",
              "      <td>30</td>\n",
              "    </tr>\n",
              "    <tr>\n",
              "      <th>19.0</th>\n",
              "      <td>29</td>\n",
              "    </tr>\n",
              "    <tr>\n",
              "      <th>23.0</th>\n",
              "      <td>26</td>\n",
              "    </tr>\n",
              "    <tr>\n",
              "      <th>32.0</th>\n",
              "      <td>24</td>\n",
              "    </tr>\n",
              "    <tr>\n",
              "      <th>31.0</th>\n",
              "      <td>23</td>\n",
              "    </tr>\n",
              "    <tr>\n",
              "      <th>20.0</th>\n",
              "      <td>23</td>\n",
              "    </tr>\n",
              "    <tr>\n",
              "      <th>35.0</th>\n",
              "      <td>23</td>\n",
              "    </tr>\n",
              "    <tr>\n",
              "      <th>33.0</th>\n",
              "      <td>21</td>\n",
              "    </tr>\n",
              "    <tr>\n",
              "      <th>45.0</th>\n",
              "      <td>21</td>\n",
              "    </tr>\n",
              "    <tr>\n",
              "      <th>17.0</th>\n",
              "      <td>20</td>\n",
              "    </tr>\n",
              "  </tbody>\n",
              "</table>\n",
              "</div>\n",
              "      <button class=\"colab-df-convert\" onclick=\"convertToInteractive('df-37c5e43f-a912-491b-9bdd-5faa65a2420c')\"\n",
              "              title=\"Convert this dataframe to an interactive table.\"\n",
              "              style=\"display:none;\">\n",
              "        \n",
              "  <svg xmlns=\"http://www.w3.org/2000/svg\" height=\"24px\"viewBox=\"0 0 24 24\"\n",
              "       width=\"24px\">\n",
              "    <path d=\"M0 0h24v24H0V0z\" fill=\"none\"/>\n",
              "    <path d=\"M18.56 5.44l.94 2.06.94-2.06 2.06-.94-2.06-.94-.94-2.06-.94 2.06-2.06.94zm-11 1L8.5 8.5l.94-2.06 2.06-.94-2.06-.94L8.5 2.5l-.94 2.06-2.06.94zm10 10l.94 2.06.94-2.06 2.06-.94-2.06-.94-.94-2.06-.94 2.06-2.06.94z\"/><path d=\"M17.41 7.96l-1.37-1.37c-.4-.4-.92-.59-1.43-.59-.52 0-1.04.2-1.43.59L10.3 9.45l-7.72 7.72c-.78.78-.78 2.05 0 2.83L4 21.41c.39.39.9.59 1.41.59.51 0 1.02-.2 1.41-.59l7.78-7.78 2.81-2.81c.8-.78.8-2.07 0-2.86zM5.41 20L4 18.59l7.72-7.72 1.47 1.35L5.41 20z\"/>\n",
              "  </svg>\n",
              "      </button>\n",
              "      \n",
              "  <style>\n",
              "    .colab-df-container {\n",
              "      display:flex;\n",
              "      flex-wrap:wrap;\n",
              "      gap: 12px;\n",
              "    }\n",
              "\n",
              "    .colab-df-convert {\n",
              "      background-color: #E8F0FE;\n",
              "      border: none;\n",
              "      border-radius: 50%;\n",
              "      cursor: pointer;\n",
              "      display: none;\n",
              "      fill: #1967D2;\n",
              "      height: 32px;\n",
              "      padding: 0 0 0 0;\n",
              "      width: 32px;\n",
              "    }\n",
              "\n",
              "    .colab-df-convert:hover {\n",
              "      background-color: #E2EBFA;\n",
              "      box-shadow: 0px 1px 2px rgba(60, 64, 67, 0.3), 0px 1px 3px 1px rgba(60, 64, 67, 0.15);\n",
              "      fill: #174EA6;\n",
              "    }\n",
              "\n",
              "    [theme=dark] .colab-df-convert {\n",
              "      background-color: #3B4455;\n",
              "      fill: #D2E3FC;\n",
              "    }\n",
              "\n",
              "    [theme=dark] .colab-df-convert:hover {\n",
              "      background-color: #434B5C;\n",
              "      box-shadow: 0px 1px 3px 1px rgba(0, 0, 0, 0.15);\n",
              "      filter: drop-shadow(0px 1px 2px rgba(0, 0, 0, 0.3));\n",
              "      fill: #FFFFFF;\n",
              "    }\n",
              "  </style>\n",
              "\n",
              "      <script>\n",
              "        const buttonEl =\n",
              "          document.querySelector('#df-37c5e43f-a912-491b-9bdd-5faa65a2420c button.colab-df-convert');\n",
              "        buttonEl.style.display =\n",
              "          google.colab.kernel.accessAllowed ? 'block' : 'none';\n",
              "\n",
              "        async function convertToInteractive(key) {\n",
              "          const element = document.querySelector('#df-37c5e43f-a912-491b-9bdd-5faa65a2420c');\n",
              "          const dataTable =\n",
              "            await google.colab.kernel.invokeFunction('convertToInteractive',\n",
              "                                                     [key], {});\n",
              "          if (!dataTable) return;\n",
              "\n",
              "          const docLinkHtml = 'Like what you see? Visit the ' +\n",
              "            '<a target=\"_blank\" href=https://colab.research.google.com/notebooks/data_table.ipynb>data table notebook</a>'\n",
              "            + ' to learn more about interactive tables.';\n",
              "          element.innerHTML = '';\n",
              "          dataTable['output_type'] = 'display_data';\n",
              "          await google.colab.output.renderOutput(dataTable, element);\n",
              "          const docLink = document.createElement('div');\n",
              "          docLink.innerHTML = docLinkHtml;\n",
              "          element.appendChild(docLink);\n",
              "        }\n",
              "      </script>\n",
              "    </div>\n",
              "  </div>\n",
              "  "
            ]
          },
          "metadata": {},
          "execution_count": 190
        }
      ],
      "source": [
        "# Titanic passengers majority age range\n",
        "pd.DataFrame(data[\"Age\"].value_counts()).head(20)"
      ]
    },
    {
      "cell_type": "code",
      "execution_count": null,
      "id": "48c1272c",
      "metadata": {
        "id": "48c1272c",
        "outputId": "61ab2a89-e346-480b-c78b-8344531fe42c",
        "colab": {
          "base_uri": "https://localhost:8080/",
          "height": 282
        }
      },
      "outputs": [
        {
          "output_type": "execute_result",
          "data": {
            "text/plain": [
              "Text(0, 0.5, 'Suvived')"
            ]
          },
          "metadata": {},
          "execution_count": 203
        },
        {
          "output_type": "display_data",
          "data": {
            "text/plain": [
              "<Figure size 432x288 with 1 Axes>"
            ],
            "image/png": "[encoded data removed]"
          },
          "metadata": {
            "needs_background": "light"
          }
        }
      ],
      "source": [
        "from os import posix_fallocate\n",
        "#  survived distribution pictorial representation\n",
        "data['Survived'].hist(color = \"red\")\n",
        "plt.ylabel(\"Suvived\")"
      ]
    },
    {
      "cell_type": "code",
      "execution_count": null,
      "id": "f0c7376b",
      "metadata": {
        "id": "f0c7376b",
        "outputId": "cba28ed9-6aef-4346-9b3f-db7c77d6219e",
        "colab": {
          "base_uri": "https://localhost:8080/",
          "height": 282
        }
      },
      "outputs": [
        {
          "output_type": "execute_result",
          "data": {
            "text/plain": [
              "<matplotlib.axes._subplots.AxesSubplot at 0x7f98de761390>"
            ]
          },
          "metadata": {},
          "execution_count": 206
        },
        {
          "output_type": "display_data",
          "data": {
            "text/plain": [
              "<Figure size 432x288 with 1 Axes>"
            ],
            "image/png": "[encoded data removed]"
          },
          "metadata": {
            "needs_background": "light"
          }
        }
      ],
      "source": [
        "#  Age distribution pictorial representation\n",
        "data['Age'].hist(color = \"brown\")"
      ]
    },
    {
      "cell_type": "markdown",
      "id": "17fa3e37",
      "metadata": {
        "id": "17fa3e37"
      },
      "source": [
        "3. What is the proportion of first-class passengers compared to the rest? What is the most common home destination of the Titanic passengers?"
      ]
    },
    {
      "cell_type": "code",
      "execution_count": null,
      "id": "8b978e68",
      "metadata": {
        "id": "8b978e68",
        "outputId": "f6ad4475-0f5f-447b-aad2-e7063912a4dd",
        "colab": {
          "base_uri": "https://localhost:8080/"
        }
      },
      "outputs": [
        {
          "output_type": "stream",
          "name": "stdout",
          "text": [
            "passengers proportion for the first class  is  counted with the rest class is 0.247\n"
          ]
        }
      ],
      "source": [
        "#  passengers proportion for first-class is then compared to the rest\n",
        "print(\"passengers proportion for the first class  is  counted with the rest class is {}\".format(round(data['Passenger Class'].value_counts()[1]/data.shape[0], 3)))\n"
      ]
    },
    {
      "cell_type": "code",
      "execution_count": null,
      "id": "19041cc9",
      "metadata": {
        "id": "19041cc9",
        "outputId": "d90366c9-66cf-45f9-a36c-8d590ba5795d",
        "colab": {
          "base_uri": "https://localhost:8080/"
        }
      },
      "outputs": [
        {
          "output_type": "execute_result",
          "data": {
            "text/plain": [
              "0       1\n",
              "1       1\n",
              "2       1\n",
              "3       1\n",
              "4       1\n",
              "       ..\n",
              "1304    3\n",
              "1305    3\n",
              "1306    3\n",
              "1307    3\n",
              "1308    3\n",
              "Name: Passenger Class, Length: 1309, dtype: int64"
            ]
          },
          "metadata": {},
          "execution_count": 136
        }
      ],
      "source": [
        "data['Passenger Class']"
      ]
    },
    {
      "cell_type": "code",
      "execution_count": null,
      "id": "8ca2ad01",
      "metadata": {
        "id": "8ca2ad01",
        "outputId": "e892d2ab-1ccc-44c7-814e-d90f9ea3b979",
        "colab": {
          "base_uri": "https://localhost:8080/"
        }
      },
      "outputs": [
        {
          "output_type": "execute_result",
          "data": {
            "text/plain": [
              "New York, NY                            55\n",
              "London                                  14\n",
              "Montreal, PQ                            10\n",
              "Cornwall / Akron, OH                     9\n",
              "Wiltshire, England Niagara Falls, NY     8\n",
              "                                        ..\n",
              "St Ives, Cornwall / Houghton, MI         1\n",
              "India / Pittsburgh, PA                   1\n",
              "Glasgow / Bangor, ME                     1\n",
              "Ascot, Berkshire / Rochester, NY         1\n",
              "Antwerp, Belgium / Stanton, OH           1\n",
              "Name: Home / Destination, Length: 348, dtype: int64"
            ]
          },
          "metadata": {},
          "execution_count": 181
        }
      ],
      "source": [
        "# Titanic passengers most common home destination can be taken as\n",
        "data['Home / Destination'].value_counts()"
      ]
    },
    {
      "cell_type": "markdown",
      "id": "34197509",
      "metadata": {
        "id": "34197509"
      },
      "source": [
        ". From the above code most common home destination Titanic passengers  is New York."
      ]
    },
    {
      "cell_type": "markdown",
      "id": "ac53d959",
      "metadata": {
        "id": "ac53d959"
      },
      "source": [
        "4. Build a nominal logistical regression model to predict the “Survived” variable using “Age”, “Passenger Class” and “Sex” as the predicting variables."
      ]
    },
    {
      "cell_type": "code",
      "source": [
        "# nominal logistical regression model is defined\n",
        "from sklearn.linear_model import LogisticRegression \n",
        "from sklearn.metrics import accuracy_score, confusion_matrix, roc_auc_score, classification_report \n"
      ],
      "metadata": {
        "id": "avAvK_WkNZzg"
      },
      "id": "avAvK_WkNZzg",
      "execution_count": null,
      "outputs": []
    },
    {
      "cell_type": "code",
      "source": [
        "#Age can be determined as\n",
        "data = data.dropna(subset=['Age'])"
      ],
      "metadata": {
        "id": "1TR9GBJxNdUl"
      },
      "id": "1TR9GBJxNdUl",
      "execution_count": null,
      "outputs": []
    },
    {
      "cell_type": "code",
      "source": [
        "#sex, passenger class can be determined as\n",
        "x = data[[ 'Passenger Class', 'Sex']]"
      ],
      "metadata": {
        "id": "U6qCy3lsOxbY"
      },
      "id": "U6qCy3lsOxbY",
      "execution_count": null,
      "outputs": []
    },
    {
      "cell_type": "code",
      "source": [
        "data = data.replace({'female': 0, 'male': 1})\n",
        "data = data.dropna(subset=['Age'])\n",
        "x = data[['Age', 'Passenger Class', 'Sex']]\n",
        "y = data['Survived']\n",
        "\n",
        "from sklearn.model_selection import train_test_split\n",
        "xtrain, xtest, ytrain, ytest = train_test_split(x,y, test_size = 0.32, random_state = 0)\n",
        "\n",
        "log_reg = LogisticRegression()\n",
        "log_reg.fit(xtrain, ytrain)\n",
        "\n",
        "y_pred =log_reg.predict(xtest)\n",
        "\n",
        "print(\"AUC score of this model is\", round(roc_auc_score(ytest, y_pred), 2))"
      ],
      "metadata": {
        "colab": {
          "base_uri": "https://localhost:8080/"
        },
        "id": "bKrf_nQBmHrT",
        "outputId": "2e16bbf1-8f37-40c3-b6f5-d5a6cfb46024"
      },
      "id": "bKrf_nQBmHrT",
      "execution_count": null,
      "outputs": [
        {
          "output_type": "stream",
          "name": "stdout",
          "text": [
            "AUC score of this model is 0.76\n"
          ]
        }
      ]
    },
    {
      "cell_type": "code",
      "execution_count": null,
      "id": "46a004fe",
      "metadata": {
        "id": "46a004fe",
        "outputId": "3b6cb35c-12fb-44b2-e2c3-fe19f34b374e",
        "colab": {
          "base_uri": "https://localhost:8080/"
        }
      },
      "outputs": [
        {
          "output_type": "stream",
          "name": "stdout",
          "text": [
            "              precision    recall  f1-score   support\n",
            "\n",
            "           0       0.85      0.87      0.86       190\n",
            "           1       0.79      0.77      0.78       124\n",
            "\n",
            "    accuracy                           0.83       314\n",
            "   macro avg       0.82      0.82      0.82       314\n",
            "weighted avg       0.83      0.83      0.83       314\n",
            "\n"
          ]
        }
      ],
      "source": [
        "print(classification_report(wtest, ypred))"
      ]
    },
    {
      "cell_type": "markdown",
      "source": [
        "What is the chance that a female baby (less than 10 years old) first-class passenger survived?"
      ],
      "metadata": {
        "id": "qHidwkexmzZA"
      },
      "id": "qHidwkexmzZA"
    },
    {
      "cell_type": "code",
      "source": [
        "print(round((data[(data['Age'] < 10) & (data['Survived'] == 1) & (data['Sex'] == 0) & (data['Passenger Class'] == 1)].shape[0])/data.shape[0], 10))"
      ],
      "metadata": {
        "colab": {
          "base_uri": "https://localhost:8080/"
        },
        "id": "j0mi4V6cmoPS",
        "outputId": "a82f96e3-b4a3-4a1b-a875-5b45305a4e29"
      },
      "id": "j0mi4V6cmoPS",
      "execution_count": null,
      "outputs": [
        {
          "output_type": "stream",
          "name": "stdout",
          "text": [
            "0.0\n"
          ]
        }
      ]
    },
    {
      "cell_type": "markdown",
      "source": [
        "What is the chance that a female baby (less than 10 years old) third-class passenger survived?"
      ],
      "metadata": {
        "id": "Avqt6fwOfGdo"
      },
      "id": "Avqt6fwOfGdo"
    },
    {
      "cell_type": "code",
      "source": [
        "print(round((data[(data['Age'] < 10) & (data['Survived'] == 1) & (data['Sex'] == 0) & (data['Passenger Class'] == 3)].shape[0])/data.shape[0], 10))"
      ],
      "metadata": {
        "colab": {
          "base_uri": "https://localhost:8080/"
        },
        "id": "kXBIK_KOnTvt",
        "outputId": "b4fd77fd-0bd3-47be-85a0-c2fe382bdf6e"
      },
      "id": "kXBIK_KOnTvt",
      "execution_count": null,
      "outputs": [
        {
          "output_type": "stream",
          "name": "stdout",
          "text": [
            "0.0133843212\n"
          ]
        }
      ]
    },
    {
      "cell_type": "markdown",
      "source": [
        "What is the chance that a 40 years old male first-class passenger survived?"
      ],
      "metadata": {
        "id": "Azuk37lgfO96"
      },
      "id": "Azuk37lgfO96"
    },
    {
      "cell_type": "code",
      "source": [
        "# the chance that a 40 years old male first-class passenger survived\n",
        "print(round((data[(data['Age'] == 40) & (data['Survived'] == 1) & (data['Sex'] == 1) & (data['Passenger Class'] == 1)].shape[0])/data.shape[0], 10))"
      ],
      "metadata": {
        "colab": {
          "base_uri": "https://localhost:8080/"
        },
        "id": "-GWyYVUifPvl",
        "outputId": "2029e7be-95ac-4c56-e95a-ccdc5edd1c75"
      },
      "id": "-GWyYVUifPvl",
      "execution_count": null,
      "outputs": [
        {
          "output_type": "stream",
          "name": "stdout",
          "text": [
            "0.0009560229\n"
          ]
        }
      ]
    },
    {
      "cell_type": "markdown",
      "source": [
        "What is the chance that a 40 years old male third-class passenger survived?"
      ],
      "metadata": {
        "id": "Ro2kaCohfkPs"
      },
      "id": "Ro2kaCohfkPs"
    },
    {
      "cell_type": "code",
      "execution_count": null,
      "id": "611c530a",
      "metadata": {
        "id": "611c530a",
        "colab": {
          "base_uri": "https://localhost:8080/"
        },
        "outputId": "aa4278a4-1359-431f-df86-f3810834f2c3"
      },
      "outputs": [
        {
          "output_type": "execute_result",
          "data": {
            "text/plain": [
              "16"
            ]
          },
          "metadata": {},
          "execution_count": 97
        }
      ],
      "source": [
        "(ytest[(xtest['Age']  > 40).values] == 1).sum()"
      ]
    },
    {
      "cell_type": "markdown",
      "source": [
        "What is the chance that a 40 years old male first-class  passenger survived?"
      ],
      "metadata": {
        "id": "L6QTUHZtoH3l"
      },
      "id": "L6QTUHZtoH3l"
    },
    {
      "cell_type": "code",
      "source": [
        "print(round((data[(data['Age'] == 40) & (data['Survived'] == 1) & (data['Sex'] == 1) & (data['Passenger Class'] == 1)].shape[0])/data.shape[0], 10))"
      ],
      "metadata": {
        "colab": {
          "base_uri": "https://localhost:8080/"
        },
        "id": "mUxPmc3IoRWU",
        "outputId": "357bd86d-eb34-40bb-aa94-28de4f6ad7f0"
      },
      "id": "mUxPmc3IoRWU",
      "execution_count": null,
      "outputs": [
        {
          "output_type": "stream",
          "name": "stdout",
          "text": [
            "0.0009560229\n"
          ]
        }
      ]
    },
    {
      "cell_type": "markdown",
      "source": [
        "What is the chance that a 40 years old male third-class passenger survived?"
      ],
      "metadata": {
        "id": "bjP0suBOojxl"
      },
      "id": "bjP0suBOojxl"
    },
    {
      "cell_type": "code",
      "source": [
        "print(round((data[(data['Age'] == 40) & (data['Survived'] == 1) & (data['Sex'] == 1) & (data['Passenger Class'] == 3)].shape[0])/data.shape[0], 10))"
      ],
      "metadata": {
        "colab": {
          "base_uri": "https://localhost:8080/"
        },
        "id": "D50cmVxllQgy",
        "outputId": "e668b931-0dbb-44f9-bfb7-8c8b5d15c1f0"
      },
      "id": "D50cmVxllQgy",
      "execution_count": null,
      "outputs": [
        {
          "output_type": "stream",
          "name": "stdout",
          "text": [
            "0.0\n"
          ]
        }
      ]
    },
    {
      "cell_type": "markdown",
      "source": [
        "What do you think of these differences?"
      ],
      "metadata": {
        "id": "8nDmDnKKfuu5"
      },
      "id": "8nDmDnKKfuu5"
    },
    {
      "cell_type": "markdown",
      "source": [
        "The difference can be observed in the count of the first class and third class passengers  who has been servived during this Titanic incident."
      ],
      "metadata": {
        "id": "ZjPw89vpfvdK"
      },
      "id": "ZjPw89vpfvdK"
    },
    {
      "cell_type": "markdown",
      "id": "fbeeca41",
      "metadata": {
        "id": "fbeeca41"
      },
      "source": [
        "Q5.Create a Mosaic graph with “Survived” as the y-axis, “Passenger” as the x-axis, and “Sex” as the group x. What are the characteristics of the passengers (age and passenger class) that would most likely survive? What are the characteristics of the passengers (age and passenger class) that would very unlikely survive? What do you think about this insight? Include a screenshot of the Mosaic graph."
      ]
    },
    {
      "cell_type": "code",
      "source": [
        "from statsmodels.graphics.mosaicplot import mosaic\n",
        "\n",
        "def my_mosaic(*args,**kwargs):\n",
        "    mosaic(kwargs['data'], list(args),\n",
        "           labelizer=lambda k: '',\n",
        "           ax=plt.gca())\n",
        "\n",
        "g = sns.FacetGrid(data, col='Sex', col_wrap=6)\n",
        "g = g.map_dataframe(my_mosaic, 'Passenger Class', 'Survived')"
      ],
      "metadata": {
        "colab": {
          "base_uri": "https://localhost:8080/",
          "height": 225
        },
        "id": "mjUGiimggWvS",
        "outputId": "bad45942-7e3f-4845-c382-a92ea404df98"
      },
      "id": "mjUGiimggWvS",
      "execution_count": null,
      "outputs": [
        {
          "output_type": "display_data",
          "data": {
            "text/plain": [
              "<Figure size 1296x216 with 6 Axes>"
            ],
            "image/png": "[encoded data removed]"
          },
          "metadata": {
            "needs_background": "light"
          }
        }
      ]
    },
    {
      "cell_type": "markdown",
      "id": "55b68f04",
      "metadata": {
        "id": "55b68f04"
      },
      "source": [
        "Q6.Construct a decision tree using 3 variables: “Passenger Class”, “Sex”, and “Age” to predict the “Survived” variable."
      ]
    },
    {
      "cell_type": "code",
      "source": [
        "from sklearn.tree import DecisionTreeClassifier\n",
        "\n",
        "xtrain, xtest, ytrain, ytest = train_test_split(x,y, test_size = 0.20, random_state = 50)\n",
        "dt_model = DecisionTreeClassifier(criterion='entropy', max_depth = 8)\n",
        "dt_model.fit(xtrain, ytrain)\n",
        "\n",
        "dt_pred = dt_model.predict(xtest)\n",
        "print(\" model of AUC score is\", round(roc_auc_score(ytest, dt_pred), 2))"
      ],
      "metadata": {
        "colab": {
          "base_uri": "https://localhost:8080/"
        },
        "id": "3ot6D0Y0o9yj",
        "outputId": "afa25c58-1342-4a66-9e85-cd28d28fcc8e"
      },
      "id": "3ot6D0Y0o9yj",
      "execution_count": null,
      "outputs": [
        {
          "output_type": "stream",
          "name": "stdout",
          "text": [
            " model of AUC score is 0.77\n"
          ]
        }
      ]
    },
    {
      "cell_type": "markdown",
      "id": "70d59d7a",
      "metadata": {
        "id": "70d59d7a"
      },
      "source": [
        ". It can be observed that the no .of splits required for the auc score to be atleast 0.77 is 8."
      ]
    },
    {
      "cell_type": "markdown",
      "source": [
        "How many splits are done before the AUC score (Area under ROC curve) achieves at least 0.80?"
      ],
      "metadata": {
        "id": "h5jFOF0ARluF"
      },
      "id": "h5jFOF0ARluF"
    },
    {
      "cell_type": "code",
      "execution_count": null,
      "id": "1b5573e7",
      "metadata": {
        "id": "1b5573e7",
        "outputId": "8098a7bc-d4be-47ca-f21d-690d532abf4a",
        "colab": {
          "base_uri": "https://localhost:8080/"
        }
      },
      "outputs": [
        {
          "output_type": "stream",
          "name": "stdout",
          "text": [
            "feat importance = [0.16925371 0.11610298 0.20383386]\n"
          ]
        }
      ],
      "source": [
        "feature_importance = dt_model.tree_.compute_feature_importances(normalize=False)\n",
        "print(\"feat importance = \" + str(feature_importance))"
      ]
    },
    {
      "cell_type": "markdown",
      "id": "fd754207",
      "metadata": {
        "id": "fd754207"
      },
      "source": [
        ". It can be observed that the Sex(0.16) and Age(0.19) features are more for the decision tree to predict.\n",
        "\n"
      ]
    }
  ],
  "metadata": {
    "kernelspec": {
      "display_name": "Python 3 (ipykernel)",
      "language": "python",
      "name": "python3"
    },
    "language_info": {
      "codemirror_mode": {
        "name": "ipython",
        "version": 3
      },
      "file_extension": ".py",
      "mimetype": "text/x-python",
      "name": "python",
      "nbconvert_exporter": "python",
      "pygments_lexer": "ipython3",
      "version": "3.9.12"
    },
    "colab": {
      "name": "Untitled (1).ipynb",
      "provenance": [],
      "collapsed_sections": [],
      "include_colab_link": true
    }
  },
  "nbformat": 4,
  "nbformat_minor": 5
}