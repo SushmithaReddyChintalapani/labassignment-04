{
  "cells": [
    {
      "cell_type": "markdown",
      "metadata": {
        "id": "view-in-github",
        "colab_type": "text"
      },
      "source": [
        "<a href=\"https://colab.research.google.com/github/SushmithaReddyChintalapani/labassignment-04/blob/main/INFO5731_Assignment_One_sushmithafall2022.ipynb\" target=\"_parent\"><img src=\"https://colab.research.google.com/assets/colab-badge.svg\" alt=\"Open In Colab\"/></a>"
      ]
    },
    {
      "cell_type": "markdown",
      "metadata": {
        "id": "Ryk8D1Q4Wsrp"
      },
      "source": [
        "# **INFO5731 Assignment One**"
      ]
    },
    {
      "cell_type": "markdown",
      "metadata": {
        "id": "90_NR8c5XGWc"
      },
      "source": [
        "# Question 1\n",
        "\n",
        "(20 points). Write a Python program to generate 12 random numbers between 1 and 100. Sort the list of numbers in ascending order and print it out. Sort the list of numbers in descending order and print it out. Calculate the average for the group and print it out."
      ]
    },
    {
      "cell_type": "code",
      "execution_count": 3,
      "metadata": {
        "colab": {
          "base_uri": "https://localhost:8080/"
        },
        "id": "5QX6bJjGWXY9",
        "outputId": "741d5534-e2da-4890-d6d7-68f1d1077803"
      },
      "outputs": [
        {
          "output_type": "stream",
          "name": "stdout",
          "text": [
            "Ascending Order of the list is: [14, 28, 32, 34, 53, 65, 68, 72, 75, 81, 83, 87]\n",
            "Descending Order of the list is: [87, 83, 81, 75, 72, 68, 65, 53, 34, 32, 28, 14]\n",
            "The average of the list is: 57.666666666666664\n"
          ]
        }
      ],
      "source": [
        "\n",
        "def myFunc(e):\n",
        "  return len(e)\n",
        "import random\n",
        "random_list1 = random.sample(range(1, 100), 12)#.sort()\n",
        "print(\"Ascending Order of the list is:\", sorted(random_list1))\n",
        "print(\"Descending Order of the list is:\", sorted(random_list1, reverse = True))\n",
        "print(\"The average of the list is:\", sum(random_list1)/len(random_list1))\n"
      ]
    },
    {
      "cell_type": "markdown",
      "metadata": {
        "id": "1F_PZdH9Sh49"
      },
      "source": [
        "# Question 2\n",
        "(25 points). Write a program that will do the following string formatting tasks:\n",
        "\n",
        "(1) Ask the user to enter two sentences.\n",
        "\n",
        "(2) Make each sentence into a list. Each element in the list should correspond to a word in the sentence. For example, if the sentence is \"Alas! Am I alive? This is my first python program\", the program should print out ['Alas, '!', 'Am', 'I', 'alive, '?', 'This', 'is', 'my', 'first', 'python', 'program'].\n",
        "\n",
        "(3) Compare the two sentences. Print out a list of words that occur in both sentences.\n",
        "\n",
        "(4) Remove any punctuation from the sentence and print it back out. It should remove at least the following characters, but it can remove more: period(“.”), comma (“,”), semicolon (“;”), and colon (“:”)\n",
        "\n",
        "(5) Count the number of vowels in the sentences. Print out each vowel and the number of times it appears in the sentences, such as: a:2, e:1, i:0, etc"
      ]
    },
    {
      "cell_type": "code",
      "execution_count": 9,
      "metadata": {
        "colab": {
          "base_uri": "https://localhost:8080/"
        },
        "id": "Y0oOSlsOS0cq",
        "outputId": "85c6e6ba-7a03-46ba-f684-c723435a81d2"
      },
      "outputs": [
        {
          "output_type": "stream",
          "name": "stdout",
          "text": [
            "Enter the first sentence: 'Alas, '!', 'Am', 'I', 'alive, '?'\n",
            "Enter the second sentence:  'This', 'is', 'my', 'first', 'python', 'program'\n",
            "[\"'\", 'Alas', ',', \"'\", '!', \"'\", ',', \"'\", 'Am', \"'\", ',', \"'\", 'I', \"'\", ',', \"'\", 'alive', ',', \"'\", '?', \"'\"]\n",
            "[\"'\", 'This', \"'\", ',', \"'\", 'is', \"'\", ',', \"'\", 'my', \"'\", ',', \"'\", 'first', \"'\", ',', \"'\", 'python', \"'\", ',', \"'\", 'program', \"'\"]\n",
            "\n",
            "The common words in the sentence are :  []\n",
            "\n",
            "Alas Am I alive\n",
            "\n",
            "{'a': 2, 'e': 1, 'i': 1, 'o': 3, 'u': 0}\n",
            "{'a': 2, 'e': 1, 'i': 1, 'o': 3, 'u': 0}\n"
          ]
        }
      ],
      "source": [
        "sent_1 = input(\"Enter the first sentence: \")\n",
        "sent_2 = input(\"Enter the second sentence: \")\n",
        "#\n",
        "import re\n",
        "sent1_list = re.findall(r\"[A-Za-z]+|\\S\", sent_1)\n",
        "sent2_list = re.findall(r\"[A-Za-z]+|\\S\", sent_2)\n",
        "print(sent1_list)\n",
        "print(sent2_list)\n",
        "print()\n",
        "# \n",
        "common_words = list(set(sent1_list)&set(sent2_list))\n",
        "common_words = [i for i in common_words if i.isalpha()]\n",
        "print(\"The common words in the sentence are : \", common_words)\n",
        "print()\n",
        "\n",
        "# \n",
        "print(\" \".join(i for i in re.findall(r\"[A-Za-z]+|\\s\", sent_1) if i != \" \"))\n",
        "print()\n",
        "\n",
        "# \n",
        "for sent in (sent_1, sent_2):\n",
        "  vowels_count = {}\n",
        "  for char in ['a', 'e', 'i', 'o', 'u']:\n",
        "    vowels_count[char] = sentence.lower().count(char)\n",
        "\n",
        "  print(vowels_count)\n"
      ]
    },
    {
      "cell_type": "markdown",
      "metadata": {
        "id": "CmFoI4jDS9nx"
      },
      "source": [
        "# Question 3 \n",
        "\n",
        "(15 points). The formula that describes the volume V of a sphere with radius r is the following:\n",
        "\n",
        "$ V=\\frac{4}{3}\\ast\\ \\pi\\ast\\ r^3 $\n",
        "\n",
        "Write a program to calculate the value of V when r is in the range of 1–10. Output the result in the following format:\n",
        "\n",
        "\tr\tV\n",
        "\t1\t…\n",
        "\t2\t…\n",
        "\t3\t…\n"
      ]
    },
    {
      "cell_type": "code",
      "execution_count": 11,
      "metadata": {
        "colab": {
          "base_uri": "https://localhost:8080/"
        },
        "id": "pEyqeioAT95b",
        "outputId": "d4708e4e-4a10-4277-eba9-aa844dbd545a"
      },
      "outputs": [
        {
          "output_type": "stream",
          "name": "stdout",
          "text": [
            "r v\n",
            "1 4.1887902047863905\n",
            "2 33.510321638291124\n",
            "3 113.09733552923254\n",
            "4 268.082573106329\n",
            "5 523.5987755982989\n",
            "6 904.7786842338603\n",
            "7 1436.7550402417319\n",
            "8 2144.660584850632\n",
            "9 3053.6280592892786\n",
            "10 4188.790204786391\n"
          ]
        }
      ],
      "source": [
        "import math\n",
        "print(\"r v\")\n",
        "for r in range(1, 11):\n",
        "  print(\"{} {}\".format(r, (4/3)*math.pi*(r**3)))\n"
      ]
    },
    {
      "cell_type": "markdown",
      "metadata": {
        "id": "z3tBE7E-Xn5X"
      },
      "source": [
        "# Question 4\n",
        "\n",
        "(40 points). In the field of Data Science, data is often formatted as a comma-delimited (CSV) file, where each line in a file corresponds to a field's value. Refer to Chapter 9 (p. 106) for more information on comma-delimited files. To answer this question, you will need to download the file [Assignment1_denton_housing.csv](https://raw.githubusercontent.com/unt-iialab/info5731-spring2022/main/assignments/Assignment1_denton_housing.csv) included with this assignment. The file [Assignment1_denton_housing.csv](https://raw.githubusercontent.com/unt-iialab/info5731-spring2022/main/assignments/Assignment1_denton_housing.csv) contains statistics about housing in the city of Denton from 2008 to 2014. Write a program to implement the following questions.\n",
        "\n",
        "(1) (10 pts) Calculate the difference in the number of Occupied Housing Units from year to year and print it. The difference must be calculated for the consecutive years such as 2008-2009, 2009-2010 etc. Finally, print the values in the ascending order.\n",
        "\n",
        "(2) (10 pts) For all the years, calculate the percentage of housing units which are vacant an occupied. Print the results in the following format:\n",
        "\n",
        "Year Vacant Housing Units Occupied Housing Units\n",
        "\n",
        "    2008  30%   70%                          \n",
        "\t2009 ----- -----\n",
        "\t2010 ----- -----\n",
        "    2011 ----- -----\n",
        "\t2012 ----- -----\n",
        "    2013 ----- -----\n",
        "\t2014 ----- -----\n",
        "  \n",
        "  \n",
        "\n",
        "(3) (10 pts) Calculate and print the valued and years in which the highest number of housing units were vacant and occupied. Print the results in the following format:  \n",
        "\n",
        "                              Year\tValue\n",
        "\tVacant Housing Units\t  -----   -----\n",
        "\tOccupied Housing Units\t-----   -----\n",
        "\n",
        "(4) (10 pts) Calculate the harmonic mean of the total housing units and print it out. You can find the information about harmonic mean here: https://ncalculators.com/statistics/harmonic-mean-calculator.htm"
      ]
    },
    {
      "cell_type": "code",
      "source": [
        "from google.colab import drive\n",
        "drive.mount('/content/drive')"
      ],
      "metadata": {
        "colab": {
          "base_uri": "https://localhost:8080/"
        },
        "id": "EHrvPfibczXx",
        "outputId": "293c27b0-2ba7-4de0-937b-e3a2f4ae78ec"
      },
      "execution_count": 40,
      "outputs": [
        {
          "output_type": "stream",
          "name": "stdout",
          "text": [
            "Drive already mounted at /content/drive; to attempt to forcibly remount, call drive.mount(\"/content/drive\", force_remount=True).\n"
          ]
        }
      ]
    },
    {
      "cell_type": "code",
      "source": [
        "import pandas as pd\n",
        "\n",
        "data_file = pd.read_csv('/content/drive/MyDrive/Assignment1_denton_housing.csv')\n",
        "data.head()\n"
      ],
      "metadata": {
        "colab": {
          "base_uri": "https://localhost:8080/",
          "height": 206
        },
        "id": "C_9u5TYac7Dn",
        "outputId": "068a1bb5-3f22-4a69-f871-ef94bca0bd0f"
      },
      "execution_count": 50,
      "outputs": [
        {
          "output_type": "execute_result",
          "data": {
            "text/plain": [
              "   year             title_field  value\n",
              "0  2014     Total Housing Units  49109\n",
              "1  2014    Vacant Housing Units   2814\n",
              "2  2014  Occupied Housing Units  46295\n",
              "3  2013     Total Housing Units  47888\n",
              "4  2013    Vacant Housing Units   4215"
            ],
            "text/html": [
              "\n",
              "  <div id=\"df-dd127f49-e24e-4a4c-800f-7aa2885b09c6\">\n",
              "    <div class=\"colab-df-container\">\n",
              "      <div>\n",
              "<style scoped>\n",
              "    .dataframe tbody tr th:only-of-type {\n",
              "        vertical-align: middle;\n",
              "    }\n",
              "\n",
              "    .dataframe tbody tr th {\n",
              "        vertical-align: top;\n",
              "    }\n",
              "\n",
              "    .dataframe thead th {\n",
              "        text-align: right;\n",
              "    }\n",
              "</style>\n",
              "<table border=\"1\" class=\"dataframe\">\n",
              "  <thead>\n",
              "    <tr style=\"text-align: right;\">\n",
              "      <th></th>\n",
              "      <th>year</th>\n",
              "      <th>title_field</th>\n",
              "      <th>value</th>\n",
              "    </tr>\n",
              "  </thead>\n",
              "  <tbody>\n",
              "    <tr>\n",
              "      <th>0</th>\n",
              "      <td>2014</td>\n",
              "      <td>Total Housing Units</td>\n",
              "      <td>49109</td>\n",
              "    </tr>\n",
              "    <tr>\n",
              "      <th>1</th>\n",
              "      <td>2014</td>\n",
              "      <td>Vacant Housing Units</td>\n",
              "      <td>2814</td>\n",
              "    </tr>\n",
              "    <tr>\n",
              "      <th>2</th>\n",
              "      <td>2014</td>\n",
              "      <td>Occupied Housing Units</td>\n",
              "      <td>46295</td>\n",
              "    </tr>\n",
              "    <tr>\n",
              "      <th>3</th>\n",
              "      <td>2013</td>\n",
              "      <td>Total Housing Units</td>\n",
              "      <td>47888</td>\n",
              "    </tr>\n",
              "    <tr>\n",
              "      <th>4</th>\n",
              "      <td>2013</td>\n",
              "      <td>Vacant Housing Units</td>\n",
              "      <td>4215</td>\n",
              "    </tr>\n",
              "  </tbody>\n",
              "</table>\n",
              "</div>\n",
              "      <button class=\"colab-df-convert\" onclick=\"convertToInteractive('df-dd127f49-e24e-4a4c-800f-7aa2885b09c6')\"\n",
              "              title=\"Convert this dataframe to an interactive table.\"\n",
              "              style=\"display:none;\">\n",
              "        \n",
              "  <svg xmlns=\"http://www.w3.org/2000/svg\" height=\"24px\"viewBox=\"0 0 24 24\"\n",
              "       width=\"24px\">\n",
              "    <path d=\"M0 0h24v24H0V0z\" fill=\"none\"/>\n",
              "    <path d=\"M18.56 5.44l.94 2.06.94-2.06 2.06-.94-2.06-.94-.94-2.06-.94 2.06-2.06.94zm-11 1L8.5 8.5l.94-2.06 2.06-.94-2.06-.94L8.5 2.5l-.94 2.06-2.06.94zm10 10l.94 2.06.94-2.06 2.06-.94-2.06-.94-.94-2.06-.94 2.06-2.06.94z\"/><path d=\"M17.41 7.96l-1.37-1.37c-.4-.4-.92-.59-1.43-.59-.52 0-1.04.2-1.43.59L10.3 9.45l-7.72 7.72c-.78.78-.78 2.05 0 2.83L4 21.41c.39.39.9.59 1.41.59.51 0 1.02-.2 1.41-.59l7.78-7.78 2.81-2.81c.8-.78.8-2.07 0-2.86zM5.41 20L4 18.59l7.72-7.72 1.47 1.35L5.41 20z\"/>\n",
              "  </svg>\n",
              "      </button>\n",
              "      \n",
              "  <style>\n",
              "    .colab-df-container {\n",
              "      display:flex;\n",
              "      flex-wrap:wrap;\n",
              "      gap: 12px;\n",
              "    }\n",
              "\n",
              "    .colab-df-convert {\n",
              "      background-color: #E8F0FE;\n",
              "      border: none;\n",
              "      border-radius: 50%;\n",
              "      cursor: pointer;\n",
              "      display: none;\n",
              "      fill: #1967D2;\n",
              "      height: 32px;\n",
              "      padding: 0 0 0 0;\n",
              "      width: 32px;\n",
              "    }\n",
              "\n",
              "    .colab-df-convert:hover {\n",
              "      background-color: #E2EBFA;\n",
              "      box-shadow: 0px 1px 2px rgba(60, 64, 67, 0.3), 0px 1px 3px 1px rgba(60, 64, 67, 0.15);\n",
              "      fill: #174EA6;\n",
              "    }\n",
              "\n",
              "    [theme=dark] .colab-df-convert {\n",
              "      background-color: #3B4455;\n",
              "      fill: #D2E3FC;\n",
              "    }\n",
              "\n",
              "    [theme=dark] .colab-df-convert:hover {\n",
              "      background-color: #434B5C;\n",
              "      box-shadow: 0px 1px 3px 1px rgba(0, 0, 0, 0.15);\n",
              "      filter: drop-shadow(0px 1px 2px rgba(0, 0, 0, 0.3));\n",
              "      fill: #FFFFFF;\n",
              "    }\n",
              "  </style>\n",
              "\n",
              "      <script>\n",
              "        const buttonEl =\n",
              "          document.querySelector('#df-dd127f49-e24e-4a4c-800f-7aa2885b09c6 button.colab-df-convert');\n",
              "        buttonEl.style.display =\n",
              "          google.colab.kernel.accessAllowed ? 'block' : 'none';\n",
              "\n",
              "        async function convertToInteractive(key) {\n",
              "          const element = document.querySelector('#df-dd127f49-e24e-4a4c-800f-7aa2885b09c6');\n",
              "          const dataTable =\n",
              "            await google.colab.kernel.invokeFunction('convertToInteractive',\n",
              "                                                     [key], {});\n",
              "          if (!dataTable) return;\n",
              "\n",
              "          const docLinkHtml = 'Like what you see? Visit the ' +\n",
              "            '<a target=\"_blank\" href=https://colab.research.google.com/notebooks/data_table.ipynb>data table notebook</a>'\n",
              "            + ' to learn more about interactive tables.';\n",
              "          element.innerHTML = '';\n",
              "          dataTable['output_type'] = 'display_data';\n",
              "          await google.colab.output.renderOutput(dataTable, element);\n",
              "          const docLink = document.createElement('div');\n",
              "          docLink.innerHTML = docLinkHtml;\n",
              "          element.appendChild(docLink);\n",
              "        }\n",
              "      </script>\n",
              "    </div>\n",
              "  </div>\n",
              "  "
            ]
          },
          "metadata": {},
          "execution_count": 50
        }
      ]
    },
    {
      "cell_type": "code",
      "source": [
        "# 1.)\n",
        "import pandas as pd\n",
        "import io\n",
        "result = {}\n",
        "for year in range(2008, 2014):\n",
        "  result[\"{}-{}\".format(year, year+1)] = abs(data_file[(data_file['year'] == year) & (data_file['title_field'] == \"Occupied Housing Units\")].values[0][2] - data_file[(data_file['year'] == year + 1) & (data_file['title_field'] == \"Occupied Housing Units\")].values[0][2])\n",
        "print(\"The ascending order of Occupied Housing Units is: \")\n",
        "result = {X: v for X, v in sorted(result.items(), key=lambda item: item[1])}\n",
        "for X in result.keys():\n",
        "  print(\"{}: {}\".format(X, result[X]))"
      ],
      "metadata": {
        "colab": {
          "base_uri": "https://localhost:8080/"
        },
        "id": "qtSl7rI5fKG4",
        "outputId": "7ec73101-cf5e-4ef2-b4a6-ddf8b19ba7a8"
      },
      "execution_count": 51,
      "outputs": [
        {
          "output_type": "stream",
          "name": "stdout",
          "text": [
            "The ascending order of Occupied Housing Units is: \n",
            "2010-2011: 303\n",
            "2008-2009: 795\n",
            "2011-2012: 1404\n",
            "2012-2013: 1565\n",
            "2013-2014: 2622\n",
            "2009-2010: 5091\n"
          ]
        }
      ]
    },
    {
      "cell_type": "code",
      "source": [
        "# 2.)\n",
        "import pandas as pd\n",
        "percentage1_result1 = pd.DataFrame(columns = ['Year', 'Vacant Housing Units', 'Occupied Housing Units'])\n",
        "for year in range(2008, 2015):\n",
        "  result = {}\n",
        "  result['Year'] = year\n",
        "  result['Vacant Housing Units'] = round((data_file[(data_file['year'] == year)]['value'].values[1]) / (data_file[(data_file['year'] == year)]['value'].values[0])*100, 2)\n",
        "  result['Occupied Housing Units'] = round((data_file[(data_file['year'] == year)]['value'].values[2]) / (data_file[(data_file['year'] == year)]['value'].values[0])*100, 2) \n",
        "\n",
        "  percentage1_result1 = percentage1_result1.append(result, ignore_index=True)\n",
        "percentage1_result1['Year'] = percentage1_result1['Year'].astype('int64')\n",
        "print(percentage1_result1.to_string(index=False))"
      ],
      "metadata": {
        "colab": {
          "base_uri": "https://localhost:8080/"
        },
        "id": "V1tIflJkgbbs",
        "outputId": "4dc6764f-d08f-40cc-f009-ac3d92bec4f0"
      },
      "execution_count": 58,
      "outputs": [
        {
          "output_type": "stream",
          "name": "stdout",
          "text": [
            " Year  Vacant Housing Units  Occupied Housing Units\n",
            " 2008                 10.88                   89.12\n",
            " 2009                  9.07                   90.93\n",
            " 2010                  8.14                   91.86\n",
            " 2011                  9.38                   90.62\n",
            " 2012                  6.68                   93.32\n",
            " 2013                  8.80                   91.20\n",
            " 2014                  5.73                   94.27\n"
          ]
        }
      ]
    },
    {
      "cell_type": "code",
      "source": [
        "housing_units = pd.DataFrame(columns=['Units','Year', 'Value'])\n",
        "for u in ['Vacant Housing Units', \"Occupied Housing Units\"]:\n",
        "  output = {}\n",
        "  output['Units'] = u\n",
        "  output['Value'] = data_file[data_file['title_field'] == u].max()[2]\n",
        "  output['Year'] = data_file[(data_file['title_field'] == u) & (data_file['value'] == output['Value'])]['year'].values[0]\n",
        "  housing_units = housing_units.append(output, ignore_index=True)\n",
        "\n",
        "housing_units.rename(columns = {'Units':\"\", 'Year': \"Year\", \"Value\": \"Value\"}, inplace = True)\n",
        "print(housing_units.to_string(index = False))"
      ],
      "metadata": {
        "colab": {
          "base_uri": "https://localhost:8080/"
        },
        "id": "0Tiwjc-shMPD",
        "outputId": "8c677694-454f-45ae-8c78-81b7d5f8bf49"
      },
      "execution_count": 60,
      "outputs": [
        {
          "output_type": "stream",
          "name": "stdout",
          "text": [
            "                       Year Value\n",
            "  Vacant Housing Units 2008  4483\n",
            "Occupied Housing Units 2014 46295\n"
          ]
        }
      ]
    },
    {
      "cell_type": "code",
      "source": [
        "from statistics import harmonic_mean\n",
        "print(\"Housing units total Harmonic mean is: \",harmonic_mean(data[data['title_field'] == 'Total Housing Units']['value']))"
      ],
      "metadata": {
        "colab": {
          "base_uri": "https://localhost:8080/"
        },
        "id": "PQCmKOtQhcus",
        "outputId": "f1fe830d-20ba-4509-bb30-813e57f2d07f"
      },
      "execution_count": 61,
      "outputs": [
        {
          "output_type": "stream",
          "name": "stdout",
          "text": [
            "Housing units total Harmonic mean is:  44398.28543969185\n"
          ]
        }
      ]
    }
  ],
  "metadata": {
    "colab": {
      "collapsed_sections": [],
      "provenance": [],
      "include_colab_link": true
    },
    "kernelspec": {
      "display_name": "Python 3 (ipykernel)",
      "language": "python",
      "name": "python3"
    },
    "language_info": {
      "codemirror_mode": {
        "name": "ipython",
        "version": 3
      },
      "file_extension": ".py",
      "mimetype": "text/x-python",
      "name": "python",
      "nbconvert_exporter": "python",
      "pygments_lexer": "ipython3",
      "version": "3.9.12"
    }
  },
  "nbformat": 4,
  "nbformat_minor": 0
}